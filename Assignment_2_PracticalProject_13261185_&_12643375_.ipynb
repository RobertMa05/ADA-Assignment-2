{
  "nbformat": 4,
  "nbformat_minor": 0,
  "metadata": {
    "colab": {
      "name": "Assignment 2_PracticalProject_13261185 & 12643375 .ipynb",
      "provenance": [],
      "collapsed_sections": [
        "D1I-9sRZvvfi"
      ],
      "include_colab_link": true
    },
    "kernelspec": {
      "name": "python3",
      "display_name": "Python 3"
    }
  },
  "cells": [
    {
      "cell_type": "markdown",
      "metadata": {
        "id": "view-in-github",
        "colab_type": "text"
      },
      "source": [
        "<a href=\"https://colab.research.google.com/github/RobertMa05/ADA-Assignment-2/blob/master/Assignment_2_PracticalProject_13261185_%26_12643375_.ipynb\" target=\"_parent\"><img src=\"https://colab.research.google.com/assets/colab-badge.svg\" alt=\"Open In Colab\"/></a>"
      ]
    },
    {
      "cell_type": "markdown",
      "metadata": {
        "id": "kWZanitMvvjj",
        "colab_type": "text"
      },
      "source": [
        "\n",
        "# Assignment 2: Practical Data Analytics Project\n",
        "\n",
        "31005 Advanced Data Analytics\n",
        "\n",
        "Spring 2019\n",
        "\n",
        "# Student Name: Xiaoju Ma & Chaoran Pei\n",
        "\n",
        "# Student Id: 13261185 & 12643375\n",
        "\n",
        "#### Link to the Github Notebook file: \n",
        "#### Link to the Video: \n",
        "\n",
        "---"
      ]
    },
    {
      "cell_type": "markdown",
      "metadata": {
        "id": "D1I-9sRZvvfi",
        "colab_type": "text"
      },
      "source": [
        "##Introduction"
      ]
    },
    {
      "cell_type": "markdown",
      "metadata": {
        "id": "3YKs17hevveV",
        "colab_type": "text"
      },
      "source": [
        "ID3 algorithm is taking the rate of decline of information entropy as the criterion for selecting test attributes. It is selecting the attribute with the highest information gain that has not been used for the division at each node as the division criterion, and then continuing the process until the generated decision tree can be perfectly classified samples.\n",
        "\n",
        "The decision tree is a common machine learning algorithm, it is a decision model based on the tree structure of data attributes, which can be used to solve classification and regression problems. In general, it is the process of making decisions by using choice, which belongs to a kind of prediction model. Usually, we use the logical order of if, else, then.\n",
        "\n",
        "In other words, a decision tree logically exists as a tree, containing root nodes, internal nodes, and leaf nodes. Root node provides a collection that contains all the data in the dataset. And internal node states that each internal node is a judgment condition and contains a collection of data in the dataset that satisfies all conditions from the root node to the node. According to the test result of the judgment condition of an internal node, the data set corresponding to an internal node is divided into two or more child nodes. Also, the leaf node shows the final category, and the data contained in the leaf node belongs to that category.\n",
        "\n",
        "In short, the decision tree is a multi-classification model that uses a tree model to make decisions, which is simple, effective and easy to understand.\n",
        "\n",
        "1970's Quinlan finds a decision selection process that used entropy in information theory to measure decision trees. Its simplicity and efficiency caused a stir, and Quinlan calls the algorithm ID3(Iterative Dichotomiser 3).\n",
        "ID3 algorithm is taking the rate of decline of information entropy as the criterion for selecting test attrubutes. It is selecting the attribute with the highest information gain that has not been used for the division at each node as the division criterion, and then continuing the process until the generated decision tree can be perfectly classified samples.\n",
        "\n",
        "In this report, we impelment the ID3 algorithm and we use a dataset to test it.\n",
        "\n",
        "###Input:\n",
        "It is a dataset shows 11 attributes which are ingredients in wines. The dataset should have category values hence it need to be split by mean value of each attribute. It can show the results for each attribute such as high or low and good or bad. \n",
        "\n",
        "###Output:\n",
        "The output presents a decision tree with about 2 depths using pprint, and a visualization diagram using graphviz. The output is randomly chosen in the test data (testdf) which in the rows from 980 to 1010 in the entire dataset.\n",
        "\n",
        "####Output using pprint:\n",
        "{'total sulfur dioxide <= 12.9': ['Good', 'Bad']}\n",
        "\n",
        "####Output using graphviz:\n",
        "![Decision Tree output using graphviz](https://github.com/RobertMa05/ADA-Assignment-2/blob/master/Output2.png?raw=true)\n"
      ]
    },
    {
      "cell_type": "markdown",
      "metadata": {
        "id": "OdEpOjIlvvbX",
        "colab_type": "text"
      },
      "source": [
        "##Exploration"
      ]
    },
    {
      "cell_type": "markdown",
      "metadata": {
        "id": "5etBioDkmE0j",
        "colab_type": "text"
      },
      "source": [
        "###Identify Challenges\n",
        "1. Structure of codes: \n",
        "\n",
        "* Identify and split attributes more clearly\n",
        "* The structure of the tree\n",
        "* Make depths in detailed by Decision Tree Algorithm\n",
        "\n",
        "2. Calculations:\n",
        "\n",
        "* Calculate and create entropy\n",
        "* Calculate information gain"
      ]
    },
    {
      "cell_type": "markdown",
      "metadata": {
        "id": "cSWF2jH7vvaQ",
        "colab_type": "text"
      },
      "source": [
        "###Data Structures\n",
        "\n",
        "* Input dataset that searched from https://www.kaggle.com/uciml/red-wine-quality-cortez-et-al-2009, which has 11 attributes to achieve ID3 Algorithm: \n",
        "\n",
        "  columns=['fixed acidity','volatile acidity','citric acid','residual sugar','chlorides','free sulfur dioxide','total sulfur dioxide','density','pH','sulphates','alcohol','quality']\n",
        "\n",
        "* Split each attribute and identify the result is high or low and good or bad\n",
        "* Helper functions for entropy and complete depths of Decision Tree Algorithm.\n"
      ]
    },
    {
      "cell_type": "markdown",
      "metadata": {
        "id": "fS1agCYkzzKA",
        "colab_type": "text"
      },
      "source": [
        "### Data Models and Tests\n",
        "\n",
        "1. Runing codes through Colab\n",
        "\n",
        "\n",
        "\n",
        "\n",
        "2. Showing Methodology that input a dataset which has 11 attributes for wines and count, mean, std, etc of each attribute.\n",
        "\n",
        "3. Before we planned to prepare data part that split each attribute to find the quality data and compare with mean to show it is good and bad or high and low, but it cannot make an effective threshold. So, we choose a suitable threshold to minimize the classification error rate and determine the threshold instead of using the mean directly. Besides, we split the attributes of the dataset and get the best feature and split value by calculating the best information gain.\n",
        "\n",
        "4. Provide some helper functions that check the purity and classify the dataset.\n",
        "\n",
        "5. Then, calculating the entropy from the formula \n",
        "  * $Ent(D)=-\\sum_{k=1}^{\\left|y\\right|}p_{k}log_{2}p_{k}$ \n",
        "  * where:\n",
        "      * $H(X)$: entropy of entire dataset X\n",
        "      * $k$: the set of labels\n",
        "      * $p_k$: proportion of # of instances in class c to all instances\n",
        "  and define count of the unique values of the quality column to show how much of good or bad. Also, it has a test on the split the size of quality, since when entropy become more lower, the pure of information will become more higher.\n",
        "\n",
        "6. Split attribute data that make an input value then compare with it to split bigger and smaller values. Besides, it has a test that makes a column only showing ‘high’ value if it input High and the result shows all value is above 2.\n",
        "\n",
        "7. The overall entropy is following the formula $p_T \\frac{len(data_T)}{|n|} + p_F \\frac{len(data_F)}{|n|}$. We calculate it for the information gain.\n",
        "\n",
        "8. Possible splits are creating a dictionary and it will output the shape of the data frame. Then, we create a loop and get the unique values of each column.\n",
        "\n",
        "9. After possible splits, we can find the best attribute to split and its value. Features have a difference between the original entropy and the entropy classified which is the information gain divided. \n",
        "  the formular of the information gain is :\n",
        "  * $ InfoGain(F, X) = Ent(S) - \\sum_{t\\in T}p_tEnt(t) $\n",
        "  * where:\n",
        "      * $IG(F. X)$: information gained by splitting D by feature F\n",
        "      * $Ent(D)$: entropy of entire dataset D\n",
        "      * $T$: subsets created by splitting on feature F\n",
        "      * $p_t$: proportion of # of instances in t to all instances\n",
        "      * $H(t)$: entropy of subset t\n",
        "\n",
        "  Moreover, a feature can classify a dataset and characteristics can classify conditional empirical entropy. If the entropy value decreases to a maximum after dividing by the feature, the secondary feature is the best classification feature.\n",
        "\n",
        "10. Last step we will make ID3 Decision Tree Algorithm. Firstly, we will check the array is 2D or 3D. If all instances in the dataset belong to the same class, it is a single-node tree and the class acts as the class label for that node. If the feature set is empty, it is a single-node tree, and the class with the largest number of samples in the dataset is treated as the class label of the node.\n",
        "\n",
        "11. Using helper functions to build the decision tree and split the tree whether true or false. If the answer is the same, it only has one unique value. Otherwise, it will continue the splitting and loop the build function from classification again, until it reaches the maximum depth that we set.\n",
        "\n",
        "12. Test data model using the algorithm built and the  Python machine learning library scikit-learn.\n",
        "\n",
        "13. Check the Accuracy"
      ]
    },
    {
      "cell_type": "markdown",
      "metadata": {
        "id": "PNvHF3_lvvF3",
        "colab_type": "text"
      },
      "source": [
        "##Methodology"
      ]
    },
    {
      "cell_type": "markdown",
      "metadata": {
        "id": "CeXXsvy1tVWI",
        "colab_type": "text"
      },
      "source": [
        "###Losding csv file as our dataset"
      ]
    },
    {
      "cell_type": "code",
      "metadata": {
        "id": "eKr4Ne9SgZfl",
        "colab_type": "code",
        "colab": {}
      },
      "source": [
        "import seaborn as sns\n",
        "import numpy as np\n",
        "import pandas as pd\n",
        "import matplotlib.pyplot as plt\n",
        "import io\n",
        "import operator\n",
        "from sklearn import datasets\n",
        "from math import log\n",
        "from pprint import pprint"
      ],
      "execution_count": 0,
      "outputs": []
    },
    {
      "cell_type": "code",
      "metadata": {
        "id": "FciAQvYP1trF",
        "colab_type": "code",
        "colab": {}
      },
      "source": [
        "#load file from Github\n",
        "df = pd.read_csv('https://raw.githubusercontent.com/RobertMa05/ADA-Assignment-2/master/winequality-red.csv')"
      ],
      "execution_count": 0,
      "outputs": []
    },
    {
      "cell_type": "code",
      "metadata": {
        "id": "ggXhDhY52eFn",
        "colab_type": "code",
        "outputId": "0aed0009-cc44-481b-b07e-08d1ac0a4f0c",
        "colab": {
          "base_uri": "https://localhost:8080/",
          "height": 1969
        }
      },
      "source": [
        "#display the dataframe\n",
        "df"
      ],
      "execution_count": 265,
      "outputs": [
        {
          "output_type": "execute_result",
          "data": {
            "text/html": [
              "<div>\n",
              "<style scoped>\n",
              "    .dataframe tbody tr th:only-of-type {\n",
              "        vertical-align: middle;\n",
              "    }\n",
              "\n",
              "    .dataframe tbody tr th {\n",
              "        vertical-align: top;\n",
              "    }\n",
              "\n",
              "    .dataframe thead th {\n",
              "        text-align: right;\n",
              "    }\n",
              "</style>\n",
              "<table border=\"1\" class=\"dataframe\">\n",
              "  <thead>\n",
              "    <tr style=\"text-align: right;\">\n",
              "      <th></th>\n",
              "      <th>fixed acidity</th>\n",
              "      <th>volatile acidity</th>\n",
              "      <th>citric acid</th>\n",
              "      <th>residual sugar</th>\n",
              "      <th>chlorides</th>\n",
              "      <th>free sulfur dioxide</th>\n",
              "      <th>total sulfur dioxide</th>\n",
              "      <th>density</th>\n",
              "      <th>pH</th>\n",
              "      <th>sulphates</th>\n",
              "      <th>alcohol</th>\n",
              "      <th>quality</th>\n",
              "    </tr>\n",
              "  </thead>\n",
              "  <tbody>\n",
              "    <tr>\n",
              "      <th>0</th>\n",
              "      <td>7.4</td>\n",
              "      <td>0.700</td>\n",
              "      <td>0.00</td>\n",
              "      <td>1.9</td>\n",
              "      <td>0.076</td>\n",
              "      <td>11.0</td>\n",
              "      <td>34.0</td>\n",
              "      <td>0.99780</td>\n",
              "      <td>3.51</td>\n",
              "      <td>0.56</td>\n",
              "      <td>9.4</td>\n",
              "      <td>5</td>\n",
              "    </tr>\n",
              "    <tr>\n",
              "      <th>1</th>\n",
              "      <td>7.8</td>\n",
              "      <td>0.880</td>\n",
              "      <td>0.00</td>\n",
              "      <td>2.6</td>\n",
              "      <td>0.098</td>\n",
              "      <td>25.0</td>\n",
              "      <td>67.0</td>\n",
              "      <td>0.99680</td>\n",
              "      <td>3.20</td>\n",
              "      <td>0.68</td>\n",
              "      <td>9.8</td>\n",
              "      <td>5</td>\n",
              "    </tr>\n",
              "    <tr>\n",
              "      <th>2</th>\n",
              "      <td>7.8</td>\n",
              "      <td>0.760</td>\n",
              "      <td>0.04</td>\n",
              "      <td>2.3</td>\n",
              "      <td>0.092</td>\n",
              "      <td>15.0</td>\n",
              "      <td>54.0</td>\n",
              "      <td>0.99700</td>\n",
              "      <td>3.26</td>\n",
              "      <td>0.65</td>\n",
              "      <td>9.8</td>\n",
              "      <td>5</td>\n",
              "    </tr>\n",
              "    <tr>\n",
              "      <th>3</th>\n",
              "      <td>11.2</td>\n",
              "      <td>0.280</td>\n",
              "      <td>0.56</td>\n",
              "      <td>1.9</td>\n",
              "      <td>0.075</td>\n",
              "      <td>17.0</td>\n",
              "      <td>60.0</td>\n",
              "      <td>0.99800</td>\n",
              "      <td>3.16</td>\n",
              "      <td>0.58</td>\n",
              "      <td>9.8</td>\n",
              "      <td>6</td>\n",
              "    </tr>\n",
              "    <tr>\n",
              "      <th>4</th>\n",
              "      <td>7.4</td>\n",
              "      <td>0.700</td>\n",
              "      <td>0.00</td>\n",
              "      <td>1.9</td>\n",
              "      <td>0.076</td>\n",
              "      <td>11.0</td>\n",
              "      <td>34.0</td>\n",
              "      <td>0.99780</td>\n",
              "      <td>3.51</td>\n",
              "      <td>0.56</td>\n",
              "      <td>9.4</td>\n",
              "      <td>5</td>\n",
              "    </tr>\n",
              "    <tr>\n",
              "      <th>5</th>\n",
              "      <td>7.4</td>\n",
              "      <td>0.660</td>\n",
              "      <td>0.00</td>\n",
              "      <td>1.8</td>\n",
              "      <td>0.075</td>\n",
              "      <td>13.0</td>\n",
              "      <td>40.0</td>\n",
              "      <td>0.99780</td>\n",
              "      <td>3.51</td>\n",
              "      <td>0.56</td>\n",
              "      <td>9.4</td>\n",
              "      <td>5</td>\n",
              "    </tr>\n",
              "    <tr>\n",
              "      <th>6</th>\n",
              "      <td>7.9</td>\n",
              "      <td>0.600</td>\n",
              "      <td>0.06</td>\n",
              "      <td>1.6</td>\n",
              "      <td>0.069</td>\n",
              "      <td>15.0</td>\n",
              "      <td>59.0</td>\n",
              "      <td>0.99640</td>\n",
              "      <td>3.30</td>\n",
              "      <td>0.46</td>\n",
              "      <td>9.4</td>\n",
              "      <td>5</td>\n",
              "    </tr>\n",
              "    <tr>\n",
              "      <th>7</th>\n",
              "      <td>7.3</td>\n",
              "      <td>0.650</td>\n",
              "      <td>0.00</td>\n",
              "      <td>1.2</td>\n",
              "      <td>0.065</td>\n",
              "      <td>15.0</td>\n",
              "      <td>21.0</td>\n",
              "      <td>0.99460</td>\n",
              "      <td>3.39</td>\n",
              "      <td>0.47</td>\n",
              "      <td>10.0</td>\n",
              "      <td>7</td>\n",
              "    </tr>\n",
              "    <tr>\n",
              "      <th>8</th>\n",
              "      <td>7.8</td>\n",
              "      <td>0.580</td>\n",
              "      <td>0.02</td>\n",
              "      <td>2.0</td>\n",
              "      <td>0.073</td>\n",
              "      <td>9.0</td>\n",
              "      <td>18.0</td>\n",
              "      <td>0.99680</td>\n",
              "      <td>3.36</td>\n",
              "      <td>0.57</td>\n",
              "      <td>9.5</td>\n",
              "      <td>7</td>\n",
              "    </tr>\n",
              "    <tr>\n",
              "      <th>9</th>\n",
              "      <td>7.5</td>\n",
              "      <td>0.500</td>\n",
              "      <td>0.36</td>\n",
              "      <td>6.1</td>\n",
              "      <td>0.071</td>\n",
              "      <td>17.0</td>\n",
              "      <td>102.0</td>\n",
              "      <td>0.99780</td>\n",
              "      <td>3.35</td>\n",
              "      <td>0.80</td>\n",
              "      <td>10.5</td>\n",
              "      <td>5</td>\n",
              "    </tr>\n",
              "    <tr>\n",
              "      <th>10</th>\n",
              "      <td>6.7</td>\n",
              "      <td>0.580</td>\n",
              "      <td>0.08</td>\n",
              "      <td>1.8</td>\n",
              "      <td>0.097</td>\n",
              "      <td>15.0</td>\n",
              "      <td>65.0</td>\n",
              "      <td>0.99590</td>\n",
              "      <td>3.28</td>\n",
              "      <td>0.54</td>\n",
              "      <td>9.2</td>\n",
              "      <td>5</td>\n",
              "    </tr>\n",
              "    <tr>\n",
              "      <th>11</th>\n",
              "      <td>7.5</td>\n",
              "      <td>0.500</td>\n",
              "      <td>0.36</td>\n",
              "      <td>6.1</td>\n",
              "      <td>0.071</td>\n",
              "      <td>17.0</td>\n",
              "      <td>102.0</td>\n",
              "      <td>0.99780</td>\n",
              "      <td>3.35</td>\n",
              "      <td>0.80</td>\n",
              "      <td>10.5</td>\n",
              "      <td>5</td>\n",
              "    </tr>\n",
              "    <tr>\n",
              "      <th>12</th>\n",
              "      <td>5.6</td>\n",
              "      <td>0.615</td>\n",
              "      <td>0.00</td>\n",
              "      <td>1.6</td>\n",
              "      <td>0.089</td>\n",
              "      <td>16.0</td>\n",
              "      <td>59.0</td>\n",
              "      <td>0.99430</td>\n",
              "      <td>3.58</td>\n",
              "      <td>0.52</td>\n",
              "      <td>9.9</td>\n",
              "      <td>5</td>\n",
              "    </tr>\n",
              "    <tr>\n",
              "      <th>13</th>\n",
              "      <td>7.8</td>\n",
              "      <td>0.610</td>\n",
              "      <td>0.29</td>\n",
              "      <td>1.6</td>\n",
              "      <td>0.114</td>\n",
              "      <td>9.0</td>\n",
              "      <td>29.0</td>\n",
              "      <td>0.99740</td>\n",
              "      <td>3.26</td>\n",
              "      <td>1.56</td>\n",
              "      <td>9.1</td>\n",
              "      <td>5</td>\n",
              "    </tr>\n",
              "    <tr>\n",
              "      <th>14</th>\n",
              "      <td>8.9</td>\n",
              "      <td>0.620</td>\n",
              "      <td>0.18</td>\n",
              "      <td>3.8</td>\n",
              "      <td>0.176</td>\n",
              "      <td>52.0</td>\n",
              "      <td>145.0</td>\n",
              "      <td>0.99860</td>\n",
              "      <td>3.16</td>\n",
              "      <td>0.88</td>\n",
              "      <td>9.2</td>\n",
              "      <td>5</td>\n",
              "    </tr>\n",
              "    <tr>\n",
              "      <th>15</th>\n",
              "      <td>8.9</td>\n",
              "      <td>0.620</td>\n",
              "      <td>0.19</td>\n",
              "      <td>3.9</td>\n",
              "      <td>0.170</td>\n",
              "      <td>51.0</td>\n",
              "      <td>148.0</td>\n",
              "      <td>0.99860</td>\n",
              "      <td>3.17</td>\n",
              "      <td>0.93</td>\n",
              "      <td>9.2</td>\n",
              "      <td>5</td>\n",
              "    </tr>\n",
              "    <tr>\n",
              "      <th>16</th>\n",
              "      <td>8.5</td>\n",
              "      <td>0.280</td>\n",
              "      <td>0.56</td>\n",
              "      <td>1.8</td>\n",
              "      <td>0.092</td>\n",
              "      <td>35.0</td>\n",
              "      <td>103.0</td>\n",
              "      <td>0.99690</td>\n",
              "      <td>3.30</td>\n",
              "      <td>0.75</td>\n",
              "      <td>10.5</td>\n",
              "      <td>7</td>\n",
              "    </tr>\n",
              "    <tr>\n",
              "      <th>17</th>\n",
              "      <td>8.1</td>\n",
              "      <td>0.560</td>\n",
              "      <td>0.28</td>\n",
              "      <td>1.7</td>\n",
              "      <td>0.368</td>\n",
              "      <td>16.0</td>\n",
              "      <td>56.0</td>\n",
              "      <td>0.99680</td>\n",
              "      <td>3.11</td>\n",
              "      <td>1.28</td>\n",
              "      <td>9.3</td>\n",
              "      <td>5</td>\n",
              "    </tr>\n",
              "    <tr>\n",
              "      <th>18</th>\n",
              "      <td>7.4</td>\n",
              "      <td>0.590</td>\n",
              "      <td>0.08</td>\n",
              "      <td>4.4</td>\n",
              "      <td>0.086</td>\n",
              "      <td>6.0</td>\n",
              "      <td>29.0</td>\n",
              "      <td>0.99740</td>\n",
              "      <td>3.38</td>\n",
              "      <td>0.50</td>\n",
              "      <td>9.0</td>\n",
              "      <td>4</td>\n",
              "    </tr>\n",
              "    <tr>\n",
              "      <th>19</th>\n",
              "      <td>7.9</td>\n",
              "      <td>0.320</td>\n",
              "      <td>0.51</td>\n",
              "      <td>1.8</td>\n",
              "      <td>0.341</td>\n",
              "      <td>17.0</td>\n",
              "      <td>56.0</td>\n",
              "      <td>0.99690</td>\n",
              "      <td>3.04</td>\n",
              "      <td>1.08</td>\n",
              "      <td>9.2</td>\n",
              "      <td>6</td>\n",
              "    </tr>\n",
              "    <tr>\n",
              "      <th>20</th>\n",
              "      <td>8.9</td>\n",
              "      <td>0.220</td>\n",
              "      <td>0.48</td>\n",
              "      <td>1.8</td>\n",
              "      <td>0.077</td>\n",
              "      <td>29.0</td>\n",
              "      <td>60.0</td>\n",
              "      <td>0.99680</td>\n",
              "      <td>3.39</td>\n",
              "      <td>0.53</td>\n",
              "      <td>9.4</td>\n",
              "      <td>6</td>\n",
              "    </tr>\n",
              "    <tr>\n",
              "      <th>21</th>\n",
              "      <td>7.6</td>\n",
              "      <td>0.390</td>\n",
              "      <td>0.31</td>\n",
              "      <td>2.3</td>\n",
              "      <td>0.082</td>\n",
              "      <td>23.0</td>\n",
              "      <td>71.0</td>\n",
              "      <td>0.99820</td>\n",
              "      <td>3.52</td>\n",
              "      <td>0.65</td>\n",
              "      <td>9.7</td>\n",
              "      <td>5</td>\n",
              "    </tr>\n",
              "    <tr>\n",
              "      <th>22</th>\n",
              "      <td>7.9</td>\n",
              "      <td>0.430</td>\n",
              "      <td>0.21</td>\n",
              "      <td>1.6</td>\n",
              "      <td>0.106</td>\n",
              "      <td>10.0</td>\n",
              "      <td>37.0</td>\n",
              "      <td>0.99660</td>\n",
              "      <td>3.17</td>\n",
              "      <td>0.91</td>\n",
              "      <td>9.5</td>\n",
              "      <td>5</td>\n",
              "    </tr>\n",
              "    <tr>\n",
              "      <th>23</th>\n",
              "      <td>8.5</td>\n",
              "      <td>0.490</td>\n",
              "      <td>0.11</td>\n",
              "      <td>2.3</td>\n",
              "      <td>0.084</td>\n",
              "      <td>9.0</td>\n",
              "      <td>67.0</td>\n",
              "      <td>0.99680</td>\n",
              "      <td>3.17</td>\n",
              "      <td>0.53</td>\n",
              "      <td>9.4</td>\n",
              "      <td>5</td>\n",
              "    </tr>\n",
              "    <tr>\n",
              "      <th>24</th>\n",
              "      <td>6.9</td>\n",
              "      <td>0.400</td>\n",
              "      <td>0.14</td>\n",
              "      <td>2.4</td>\n",
              "      <td>0.085</td>\n",
              "      <td>21.0</td>\n",
              "      <td>40.0</td>\n",
              "      <td>0.99680</td>\n",
              "      <td>3.43</td>\n",
              "      <td>0.63</td>\n",
              "      <td>9.7</td>\n",
              "      <td>6</td>\n",
              "    </tr>\n",
              "    <tr>\n",
              "      <th>25</th>\n",
              "      <td>6.3</td>\n",
              "      <td>0.390</td>\n",
              "      <td>0.16</td>\n",
              "      <td>1.4</td>\n",
              "      <td>0.080</td>\n",
              "      <td>11.0</td>\n",
              "      <td>23.0</td>\n",
              "      <td>0.99550</td>\n",
              "      <td>3.34</td>\n",
              "      <td>0.56</td>\n",
              "      <td>9.3</td>\n",
              "      <td>5</td>\n",
              "    </tr>\n",
              "    <tr>\n",
              "      <th>26</th>\n",
              "      <td>7.6</td>\n",
              "      <td>0.410</td>\n",
              "      <td>0.24</td>\n",
              "      <td>1.8</td>\n",
              "      <td>0.080</td>\n",
              "      <td>4.0</td>\n",
              "      <td>11.0</td>\n",
              "      <td>0.99620</td>\n",
              "      <td>3.28</td>\n",
              "      <td>0.59</td>\n",
              "      <td>9.5</td>\n",
              "      <td>5</td>\n",
              "    </tr>\n",
              "    <tr>\n",
              "      <th>27</th>\n",
              "      <td>7.9</td>\n",
              "      <td>0.430</td>\n",
              "      <td>0.21</td>\n",
              "      <td>1.6</td>\n",
              "      <td>0.106</td>\n",
              "      <td>10.0</td>\n",
              "      <td>37.0</td>\n",
              "      <td>0.99660</td>\n",
              "      <td>3.17</td>\n",
              "      <td>0.91</td>\n",
              "      <td>9.5</td>\n",
              "      <td>5</td>\n",
              "    </tr>\n",
              "    <tr>\n",
              "      <th>28</th>\n",
              "      <td>7.1</td>\n",
              "      <td>0.710</td>\n",
              "      <td>0.00</td>\n",
              "      <td>1.9</td>\n",
              "      <td>0.080</td>\n",
              "      <td>14.0</td>\n",
              "      <td>35.0</td>\n",
              "      <td>0.99720</td>\n",
              "      <td>3.47</td>\n",
              "      <td>0.55</td>\n",
              "      <td>9.4</td>\n",
              "      <td>5</td>\n",
              "    </tr>\n",
              "    <tr>\n",
              "      <th>29</th>\n",
              "      <td>7.8</td>\n",
              "      <td>0.645</td>\n",
              "      <td>0.00</td>\n",
              "      <td>2.0</td>\n",
              "      <td>0.082</td>\n",
              "      <td>8.0</td>\n",
              "      <td>16.0</td>\n",
              "      <td>0.99640</td>\n",
              "      <td>3.38</td>\n",
              "      <td>0.59</td>\n",
              "      <td>9.8</td>\n",
              "      <td>6</td>\n",
              "    </tr>\n",
              "    <tr>\n",
              "      <th>...</th>\n",
              "      <td>...</td>\n",
              "      <td>...</td>\n",
              "      <td>...</td>\n",
              "      <td>...</td>\n",
              "      <td>...</td>\n",
              "      <td>...</td>\n",
              "      <td>...</td>\n",
              "      <td>...</td>\n",
              "      <td>...</td>\n",
              "      <td>...</td>\n",
              "      <td>...</td>\n",
              "      <td>...</td>\n",
              "    </tr>\n",
              "    <tr>\n",
              "      <th>1569</th>\n",
              "      <td>6.2</td>\n",
              "      <td>0.510</td>\n",
              "      <td>0.14</td>\n",
              "      <td>1.9</td>\n",
              "      <td>0.056</td>\n",
              "      <td>15.0</td>\n",
              "      <td>34.0</td>\n",
              "      <td>0.99396</td>\n",
              "      <td>3.48</td>\n",
              "      <td>0.57</td>\n",
              "      <td>11.5</td>\n",
              "      <td>6</td>\n",
              "    </tr>\n",
              "    <tr>\n",
              "      <th>1570</th>\n",
              "      <td>6.4</td>\n",
              "      <td>0.360</td>\n",
              "      <td>0.53</td>\n",
              "      <td>2.2</td>\n",
              "      <td>0.230</td>\n",
              "      <td>19.0</td>\n",
              "      <td>35.0</td>\n",
              "      <td>0.99340</td>\n",
              "      <td>3.37</td>\n",
              "      <td>0.93</td>\n",
              "      <td>12.4</td>\n",
              "      <td>6</td>\n",
              "    </tr>\n",
              "    <tr>\n",
              "      <th>1571</th>\n",
              "      <td>6.4</td>\n",
              "      <td>0.380</td>\n",
              "      <td>0.14</td>\n",
              "      <td>2.2</td>\n",
              "      <td>0.038</td>\n",
              "      <td>15.0</td>\n",
              "      <td>25.0</td>\n",
              "      <td>0.99514</td>\n",
              "      <td>3.44</td>\n",
              "      <td>0.65</td>\n",
              "      <td>11.1</td>\n",
              "      <td>6</td>\n",
              "    </tr>\n",
              "    <tr>\n",
              "      <th>1572</th>\n",
              "      <td>7.3</td>\n",
              "      <td>0.690</td>\n",
              "      <td>0.32</td>\n",
              "      <td>2.2</td>\n",
              "      <td>0.069</td>\n",
              "      <td>35.0</td>\n",
              "      <td>104.0</td>\n",
              "      <td>0.99632</td>\n",
              "      <td>3.33</td>\n",
              "      <td>0.51</td>\n",
              "      <td>9.5</td>\n",
              "      <td>5</td>\n",
              "    </tr>\n",
              "    <tr>\n",
              "      <th>1573</th>\n",
              "      <td>6.0</td>\n",
              "      <td>0.580</td>\n",
              "      <td>0.20</td>\n",
              "      <td>2.4</td>\n",
              "      <td>0.075</td>\n",
              "      <td>15.0</td>\n",
              "      <td>50.0</td>\n",
              "      <td>0.99467</td>\n",
              "      <td>3.58</td>\n",
              "      <td>0.67</td>\n",
              "      <td>12.5</td>\n",
              "      <td>6</td>\n",
              "    </tr>\n",
              "    <tr>\n",
              "      <th>1574</th>\n",
              "      <td>5.6</td>\n",
              "      <td>0.310</td>\n",
              "      <td>0.78</td>\n",
              "      <td>13.9</td>\n",
              "      <td>0.074</td>\n",
              "      <td>23.0</td>\n",
              "      <td>92.0</td>\n",
              "      <td>0.99677</td>\n",
              "      <td>3.39</td>\n",
              "      <td>0.48</td>\n",
              "      <td>10.5</td>\n",
              "      <td>6</td>\n",
              "    </tr>\n",
              "    <tr>\n",
              "      <th>1575</th>\n",
              "      <td>7.5</td>\n",
              "      <td>0.520</td>\n",
              "      <td>0.40</td>\n",
              "      <td>2.2</td>\n",
              "      <td>0.060</td>\n",
              "      <td>12.0</td>\n",
              "      <td>20.0</td>\n",
              "      <td>0.99474</td>\n",
              "      <td>3.26</td>\n",
              "      <td>0.64</td>\n",
              "      <td>11.8</td>\n",
              "      <td>6</td>\n",
              "    </tr>\n",
              "    <tr>\n",
              "      <th>1576</th>\n",
              "      <td>8.0</td>\n",
              "      <td>0.300</td>\n",
              "      <td>0.63</td>\n",
              "      <td>1.6</td>\n",
              "      <td>0.081</td>\n",
              "      <td>16.0</td>\n",
              "      <td>29.0</td>\n",
              "      <td>0.99588</td>\n",
              "      <td>3.30</td>\n",
              "      <td>0.78</td>\n",
              "      <td>10.8</td>\n",
              "      <td>6</td>\n",
              "    </tr>\n",
              "    <tr>\n",
              "      <th>1577</th>\n",
              "      <td>6.2</td>\n",
              "      <td>0.700</td>\n",
              "      <td>0.15</td>\n",
              "      <td>5.1</td>\n",
              "      <td>0.076</td>\n",
              "      <td>13.0</td>\n",
              "      <td>27.0</td>\n",
              "      <td>0.99622</td>\n",
              "      <td>3.54</td>\n",
              "      <td>0.60</td>\n",
              "      <td>11.9</td>\n",
              "      <td>6</td>\n",
              "    </tr>\n",
              "    <tr>\n",
              "      <th>1578</th>\n",
              "      <td>6.8</td>\n",
              "      <td>0.670</td>\n",
              "      <td>0.15</td>\n",
              "      <td>1.8</td>\n",
              "      <td>0.118</td>\n",
              "      <td>13.0</td>\n",
              "      <td>20.0</td>\n",
              "      <td>0.99540</td>\n",
              "      <td>3.42</td>\n",
              "      <td>0.67</td>\n",
              "      <td>11.3</td>\n",
              "      <td>6</td>\n",
              "    </tr>\n",
              "    <tr>\n",
              "      <th>1579</th>\n",
              "      <td>6.2</td>\n",
              "      <td>0.560</td>\n",
              "      <td>0.09</td>\n",
              "      <td>1.7</td>\n",
              "      <td>0.053</td>\n",
              "      <td>24.0</td>\n",
              "      <td>32.0</td>\n",
              "      <td>0.99402</td>\n",
              "      <td>3.54</td>\n",
              "      <td>0.60</td>\n",
              "      <td>11.3</td>\n",
              "      <td>5</td>\n",
              "    </tr>\n",
              "    <tr>\n",
              "      <th>1580</th>\n",
              "      <td>7.4</td>\n",
              "      <td>0.350</td>\n",
              "      <td>0.33</td>\n",
              "      <td>2.4</td>\n",
              "      <td>0.068</td>\n",
              "      <td>9.0</td>\n",
              "      <td>26.0</td>\n",
              "      <td>0.99470</td>\n",
              "      <td>3.36</td>\n",
              "      <td>0.60</td>\n",
              "      <td>11.9</td>\n",
              "      <td>6</td>\n",
              "    </tr>\n",
              "    <tr>\n",
              "      <th>1581</th>\n",
              "      <td>6.2</td>\n",
              "      <td>0.560</td>\n",
              "      <td>0.09</td>\n",
              "      <td>1.7</td>\n",
              "      <td>0.053</td>\n",
              "      <td>24.0</td>\n",
              "      <td>32.0</td>\n",
              "      <td>0.99402</td>\n",
              "      <td>3.54</td>\n",
              "      <td>0.60</td>\n",
              "      <td>11.3</td>\n",
              "      <td>5</td>\n",
              "    </tr>\n",
              "    <tr>\n",
              "      <th>1582</th>\n",
              "      <td>6.1</td>\n",
              "      <td>0.715</td>\n",
              "      <td>0.10</td>\n",
              "      <td>2.6</td>\n",
              "      <td>0.053</td>\n",
              "      <td>13.0</td>\n",
              "      <td>27.0</td>\n",
              "      <td>0.99362</td>\n",
              "      <td>3.57</td>\n",
              "      <td>0.50</td>\n",
              "      <td>11.9</td>\n",
              "      <td>5</td>\n",
              "    </tr>\n",
              "    <tr>\n",
              "      <th>1583</th>\n",
              "      <td>6.2</td>\n",
              "      <td>0.460</td>\n",
              "      <td>0.29</td>\n",
              "      <td>2.1</td>\n",
              "      <td>0.074</td>\n",
              "      <td>32.0</td>\n",
              "      <td>98.0</td>\n",
              "      <td>0.99578</td>\n",
              "      <td>3.33</td>\n",
              "      <td>0.62</td>\n",
              "      <td>9.8</td>\n",
              "      <td>5</td>\n",
              "    </tr>\n",
              "    <tr>\n",
              "      <th>1584</th>\n",
              "      <td>6.7</td>\n",
              "      <td>0.320</td>\n",
              "      <td>0.44</td>\n",
              "      <td>2.4</td>\n",
              "      <td>0.061</td>\n",
              "      <td>24.0</td>\n",
              "      <td>34.0</td>\n",
              "      <td>0.99484</td>\n",
              "      <td>3.29</td>\n",
              "      <td>0.80</td>\n",
              "      <td>11.6</td>\n",
              "      <td>7</td>\n",
              "    </tr>\n",
              "    <tr>\n",
              "      <th>1585</th>\n",
              "      <td>7.2</td>\n",
              "      <td>0.390</td>\n",
              "      <td>0.44</td>\n",
              "      <td>2.6</td>\n",
              "      <td>0.066</td>\n",
              "      <td>22.0</td>\n",
              "      <td>48.0</td>\n",
              "      <td>0.99494</td>\n",
              "      <td>3.30</td>\n",
              "      <td>0.84</td>\n",
              "      <td>11.5</td>\n",
              "      <td>6</td>\n",
              "    </tr>\n",
              "    <tr>\n",
              "      <th>1586</th>\n",
              "      <td>7.5</td>\n",
              "      <td>0.310</td>\n",
              "      <td>0.41</td>\n",
              "      <td>2.4</td>\n",
              "      <td>0.065</td>\n",
              "      <td>34.0</td>\n",
              "      <td>60.0</td>\n",
              "      <td>0.99492</td>\n",
              "      <td>3.34</td>\n",
              "      <td>0.85</td>\n",
              "      <td>11.4</td>\n",
              "      <td>6</td>\n",
              "    </tr>\n",
              "    <tr>\n",
              "      <th>1587</th>\n",
              "      <td>5.8</td>\n",
              "      <td>0.610</td>\n",
              "      <td>0.11</td>\n",
              "      <td>1.8</td>\n",
              "      <td>0.066</td>\n",
              "      <td>18.0</td>\n",
              "      <td>28.0</td>\n",
              "      <td>0.99483</td>\n",
              "      <td>3.55</td>\n",
              "      <td>0.66</td>\n",
              "      <td>10.9</td>\n",
              "      <td>6</td>\n",
              "    </tr>\n",
              "    <tr>\n",
              "      <th>1588</th>\n",
              "      <td>7.2</td>\n",
              "      <td>0.660</td>\n",
              "      <td>0.33</td>\n",
              "      <td>2.5</td>\n",
              "      <td>0.068</td>\n",
              "      <td>34.0</td>\n",
              "      <td>102.0</td>\n",
              "      <td>0.99414</td>\n",
              "      <td>3.27</td>\n",
              "      <td>0.78</td>\n",
              "      <td>12.8</td>\n",
              "      <td>6</td>\n",
              "    </tr>\n",
              "    <tr>\n",
              "      <th>1589</th>\n",
              "      <td>6.6</td>\n",
              "      <td>0.725</td>\n",
              "      <td>0.20</td>\n",
              "      <td>7.8</td>\n",
              "      <td>0.073</td>\n",
              "      <td>29.0</td>\n",
              "      <td>79.0</td>\n",
              "      <td>0.99770</td>\n",
              "      <td>3.29</td>\n",
              "      <td>0.54</td>\n",
              "      <td>9.2</td>\n",
              "      <td>5</td>\n",
              "    </tr>\n",
              "    <tr>\n",
              "      <th>1590</th>\n",
              "      <td>6.3</td>\n",
              "      <td>0.550</td>\n",
              "      <td>0.15</td>\n",
              "      <td>1.8</td>\n",
              "      <td>0.077</td>\n",
              "      <td>26.0</td>\n",
              "      <td>35.0</td>\n",
              "      <td>0.99314</td>\n",
              "      <td>3.32</td>\n",
              "      <td>0.82</td>\n",
              "      <td>11.6</td>\n",
              "      <td>6</td>\n",
              "    </tr>\n",
              "    <tr>\n",
              "      <th>1591</th>\n",
              "      <td>5.4</td>\n",
              "      <td>0.740</td>\n",
              "      <td>0.09</td>\n",
              "      <td>1.7</td>\n",
              "      <td>0.089</td>\n",
              "      <td>16.0</td>\n",
              "      <td>26.0</td>\n",
              "      <td>0.99402</td>\n",
              "      <td>3.67</td>\n",
              "      <td>0.56</td>\n",
              "      <td>11.6</td>\n",
              "      <td>6</td>\n",
              "    </tr>\n",
              "    <tr>\n",
              "      <th>1592</th>\n",
              "      <td>6.3</td>\n",
              "      <td>0.510</td>\n",
              "      <td>0.13</td>\n",
              "      <td>2.3</td>\n",
              "      <td>0.076</td>\n",
              "      <td>29.0</td>\n",
              "      <td>40.0</td>\n",
              "      <td>0.99574</td>\n",
              "      <td>3.42</td>\n",
              "      <td>0.75</td>\n",
              "      <td>11.0</td>\n",
              "      <td>6</td>\n",
              "    </tr>\n",
              "    <tr>\n",
              "      <th>1593</th>\n",
              "      <td>6.8</td>\n",
              "      <td>0.620</td>\n",
              "      <td>0.08</td>\n",
              "      <td>1.9</td>\n",
              "      <td>0.068</td>\n",
              "      <td>28.0</td>\n",
              "      <td>38.0</td>\n",
              "      <td>0.99651</td>\n",
              "      <td>3.42</td>\n",
              "      <td>0.82</td>\n",
              "      <td>9.5</td>\n",
              "      <td>6</td>\n",
              "    </tr>\n",
              "    <tr>\n",
              "      <th>1594</th>\n",
              "      <td>6.2</td>\n",
              "      <td>0.600</td>\n",
              "      <td>0.08</td>\n",
              "      <td>2.0</td>\n",
              "      <td>0.090</td>\n",
              "      <td>32.0</td>\n",
              "      <td>44.0</td>\n",
              "      <td>0.99490</td>\n",
              "      <td>3.45</td>\n",
              "      <td>0.58</td>\n",
              "      <td>10.5</td>\n",
              "      <td>5</td>\n",
              "    </tr>\n",
              "    <tr>\n",
              "      <th>1595</th>\n",
              "      <td>5.9</td>\n",
              "      <td>0.550</td>\n",
              "      <td>0.10</td>\n",
              "      <td>2.2</td>\n",
              "      <td>0.062</td>\n",
              "      <td>39.0</td>\n",
              "      <td>51.0</td>\n",
              "      <td>0.99512</td>\n",
              "      <td>3.52</td>\n",
              "      <td>0.76</td>\n",
              "      <td>11.2</td>\n",
              "      <td>6</td>\n",
              "    </tr>\n",
              "    <tr>\n",
              "      <th>1596</th>\n",
              "      <td>6.3</td>\n",
              "      <td>0.510</td>\n",
              "      <td>0.13</td>\n",
              "      <td>2.3</td>\n",
              "      <td>0.076</td>\n",
              "      <td>29.0</td>\n",
              "      <td>40.0</td>\n",
              "      <td>0.99574</td>\n",
              "      <td>3.42</td>\n",
              "      <td>0.75</td>\n",
              "      <td>11.0</td>\n",
              "      <td>6</td>\n",
              "    </tr>\n",
              "    <tr>\n",
              "      <th>1597</th>\n",
              "      <td>5.9</td>\n",
              "      <td>0.645</td>\n",
              "      <td>0.12</td>\n",
              "      <td>2.0</td>\n",
              "      <td>0.075</td>\n",
              "      <td>32.0</td>\n",
              "      <td>44.0</td>\n",
              "      <td>0.99547</td>\n",
              "      <td>3.57</td>\n",
              "      <td>0.71</td>\n",
              "      <td>10.2</td>\n",
              "      <td>5</td>\n",
              "    </tr>\n",
              "    <tr>\n",
              "      <th>1598</th>\n",
              "      <td>6.0</td>\n",
              "      <td>0.310</td>\n",
              "      <td>0.47</td>\n",
              "      <td>3.6</td>\n",
              "      <td>0.067</td>\n",
              "      <td>18.0</td>\n",
              "      <td>42.0</td>\n",
              "      <td>0.99549</td>\n",
              "      <td>3.39</td>\n",
              "      <td>0.66</td>\n",
              "      <td>11.0</td>\n",
              "      <td>6</td>\n",
              "    </tr>\n",
              "  </tbody>\n",
              "</table>\n",
              "<p>1599 rows × 12 columns</p>\n",
              "</div>"
            ],
            "text/plain": [
              "      fixed acidity  volatile acidity  citric acid  ...  sulphates  alcohol  quality\n",
              "0               7.4             0.700         0.00  ...       0.56      9.4        5\n",
              "1               7.8             0.880         0.00  ...       0.68      9.8        5\n",
              "2               7.8             0.760         0.04  ...       0.65      9.8        5\n",
              "3              11.2             0.280         0.56  ...       0.58      9.8        6\n",
              "4               7.4             0.700         0.00  ...       0.56      9.4        5\n",
              "5               7.4             0.660         0.00  ...       0.56      9.4        5\n",
              "6               7.9             0.600         0.06  ...       0.46      9.4        5\n",
              "7               7.3             0.650         0.00  ...       0.47     10.0        7\n",
              "8               7.8             0.580         0.02  ...       0.57      9.5        7\n",
              "9               7.5             0.500         0.36  ...       0.80     10.5        5\n",
              "10              6.7             0.580         0.08  ...       0.54      9.2        5\n",
              "11              7.5             0.500         0.36  ...       0.80     10.5        5\n",
              "12              5.6             0.615         0.00  ...       0.52      9.9        5\n",
              "13              7.8             0.610         0.29  ...       1.56      9.1        5\n",
              "14              8.9             0.620         0.18  ...       0.88      9.2        5\n",
              "15              8.9             0.620         0.19  ...       0.93      9.2        5\n",
              "16              8.5             0.280         0.56  ...       0.75     10.5        7\n",
              "17              8.1             0.560         0.28  ...       1.28      9.3        5\n",
              "18              7.4             0.590         0.08  ...       0.50      9.0        4\n",
              "19              7.9             0.320         0.51  ...       1.08      9.2        6\n",
              "20              8.9             0.220         0.48  ...       0.53      9.4        6\n",
              "21              7.6             0.390         0.31  ...       0.65      9.7        5\n",
              "22              7.9             0.430         0.21  ...       0.91      9.5        5\n",
              "23              8.5             0.490         0.11  ...       0.53      9.4        5\n",
              "24              6.9             0.400         0.14  ...       0.63      9.7        6\n",
              "25              6.3             0.390         0.16  ...       0.56      9.3        5\n",
              "26              7.6             0.410         0.24  ...       0.59      9.5        5\n",
              "27              7.9             0.430         0.21  ...       0.91      9.5        5\n",
              "28              7.1             0.710         0.00  ...       0.55      9.4        5\n",
              "29              7.8             0.645         0.00  ...       0.59      9.8        6\n",
              "...             ...               ...          ...  ...        ...      ...      ...\n",
              "1569            6.2             0.510         0.14  ...       0.57     11.5        6\n",
              "1570            6.4             0.360         0.53  ...       0.93     12.4        6\n",
              "1571            6.4             0.380         0.14  ...       0.65     11.1        6\n",
              "1572            7.3             0.690         0.32  ...       0.51      9.5        5\n",
              "1573            6.0             0.580         0.20  ...       0.67     12.5        6\n",
              "1574            5.6             0.310         0.78  ...       0.48     10.5        6\n",
              "1575            7.5             0.520         0.40  ...       0.64     11.8        6\n",
              "1576            8.0             0.300         0.63  ...       0.78     10.8        6\n",
              "1577            6.2             0.700         0.15  ...       0.60     11.9        6\n",
              "1578            6.8             0.670         0.15  ...       0.67     11.3        6\n",
              "1579            6.2             0.560         0.09  ...       0.60     11.3        5\n",
              "1580            7.4             0.350         0.33  ...       0.60     11.9        6\n",
              "1581            6.2             0.560         0.09  ...       0.60     11.3        5\n",
              "1582            6.1             0.715         0.10  ...       0.50     11.9        5\n",
              "1583            6.2             0.460         0.29  ...       0.62      9.8        5\n",
              "1584            6.7             0.320         0.44  ...       0.80     11.6        7\n",
              "1585            7.2             0.390         0.44  ...       0.84     11.5        6\n",
              "1586            7.5             0.310         0.41  ...       0.85     11.4        6\n",
              "1587            5.8             0.610         0.11  ...       0.66     10.9        6\n",
              "1588            7.2             0.660         0.33  ...       0.78     12.8        6\n",
              "1589            6.6             0.725         0.20  ...       0.54      9.2        5\n",
              "1590            6.3             0.550         0.15  ...       0.82     11.6        6\n",
              "1591            5.4             0.740         0.09  ...       0.56     11.6        6\n",
              "1592            6.3             0.510         0.13  ...       0.75     11.0        6\n",
              "1593            6.8             0.620         0.08  ...       0.82      9.5        6\n",
              "1594            6.2             0.600         0.08  ...       0.58     10.5        5\n",
              "1595            5.9             0.550         0.10  ...       0.76     11.2        6\n",
              "1596            6.3             0.510         0.13  ...       0.75     11.0        6\n",
              "1597            5.9             0.645         0.12  ...       0.71     10.2        5\n",
              "1598            6.0             0.310         0.47  ...       0.66     11.0        6\n",
              "\n",
              "[1599 rows x 12 columns]"
            ]
          },
          "metadata": {
            "tags": []
          },
          "execution_count": 265
        }
      ]
    },
    {
      "cell_type": "code",
      "metadata": {
        "id": "_WTq52RYkl08",
        "colab_type": "code",
        "outputId": "2dae377e-8e9e-4f19-ec5b-527903e684ac",
        "colab": {
          "base_uri": "https://localhost:8080/",
          "height": 204
        }
      },
      "source": [
        "#checking the display\n",
        "df.head()"
      ],
      "execution_count": 269,
      "outputs": [
        {
          "output_type": "execute_result",
          "data": {
            "text/html": [
              "<div>\n",
              "<style scoped>\n",
              "    .dataframe tbody tr th:only-of-type {\n",
              "        vertical-align: middle;\n",
              "    }\n",
              "\n",
              "    .dataframe tbody tr th {\n",
              "        vertical-align: top;\n",
              "    }\n",
              "\n",
              "    .dataframe thead th {\n",
              "        text-align: right;\n",
              "    }\n",
              "</style>\n",
              "<table border=\"1\" class=\"dataframe\">\n",
              "  <thead>\n",
              "    <tr style=\"text-align: right;\">\n",
              "      <th></th>\n",
              "      <th>fixed acidity</th>\n",
              "      <th>volatile acidity</th>\n",
              "      <th>citric acid</th>\n",
              "      <th>residual sugar</th>\n",
              "      <th>chlorides</th>\n",
              "      <th>free sulfur dioxide</th>\n",
              "      <th>total sulfur dioxide</th>\n",
              "      <th>density</th>\n",
              "      <th>pH</th>\n",
              "      <th>sulphates</th>\n",
              "      <th>alcohol</th>\n",
              "      <th>quality</th>\n",
              "    </tr>\n",
              "  </thead>\n",
              "  <tbody>\n",
              "    <tr>\n",
              "      <th>0</th>\n",
              "      <td>7.4</td>\n",
              "      <td>0.70</td>\n",
              "      <td>0.00</td>\n",
              "      <td>1.9</td>\n",
              "      <td>0.076</td>\n",
              "      <td>11.0</td>\n",
              "      <td>34.0</td>\n",
              "      <td>0.9978</td>\n",
              "      <td>3.51</td>\n",
              "      <td>0.56</td>\n",
              "      <td>9.4</td>\n",
              "      <td>5</td>\n",
              "    </tr>\n",
              "    <tr>\n",
              "      <th>1</th>\n",
              "      <td>7.8</td>\n",
              "      <td>0.88</td>\n",
              "      <td>0.00</td>\n",
              "      <td>2.6</td>\n",
              "      <td>0.098</td>\n",
              "      <td>25.0</td>\n",
              "      <td>67.0</td>\n",
              "      <td>0.9968</td>\n",
              "      <td>3.20</td>\n",
              "      <td>0.68</td>\n",
              "      <td>9.8</td>\n",
              "      <td>5</td>\n",
              "    </tr>\n",
              "    <tr>\n",
              "      <th>2</th>\n",
              "      <td>7.8</td>\n",
              "      <td>0.76</td>\n",
              "      <td>0.04</td>\n",
              "      <td>2.3</td>\n",
              "      <td>0.092</td>\n",
              "      <td>15.0</td>\n",
              "      <td>54.0</td>\n",
              "      <td>0.9970</td>\n",
              "      <td>3.26</td>\n",
              "      <td>0.65</td>\n",
              "      <td>9.8</td>\n",
              "      <td>5</td>\n",
              "    </tr>\n",
              "    <tr>\n",
              "      <th>3</th>\n",
              "      <td>11.2</td>\n",
              "      <td>0.28</td>\n",
              "      <td>0.56</td>\n",
              "      <td>1.9</td>\n",
              "      <td>0.075</td>\n",
              "      <td>17.0</td>\n",
              "      <td>60.0</td>\n",
              "      <td>0.9980</td>\n",
              "      <td>3.16</td>\n",
              "      <td>0.58</td>\n",
              "      <td>9.8</td>\n",
              "      <td>6</td>\n",
              "    </tr>\n",
              "    <tr>\n",
              "      <th>4</th>\n",
              "      <td>7.4</td>\n",
              "      <td>0.70</td>\n",
              "      <td>0.00</td>\n",
              "      <td>1.9</td>\n",
              "      <td>0.076</td>\n",
              "      <td>11.0</td>\n",
              "      <td>34.0</td>\n",
              "      <td>0.9978</td>\n",
              "      <td>3.51</td>\n",
              "      <td>0.56</td>\n",
              "      <td>9.4</td>\n",
              "      <td>5</td>\n",
              "    </tr>\n",
              "  </tbody>\n",
              "</table>\n",
              "</div>"
            ],
            "text/plain": [
              "   fixed acidity  volatile acidity  citric acid  ...  sulphates  alcohol  quality\n",
              "0            7.4              0.70         0.00  ...       0.56      9.4        5\n",
              "1            7.8              0.88         0.00  ...       0.68      9.8        5\n",
              "2            7.8              0.76         0.04  ...       0.65      9.8        5\n",
              "3           11.2              0.28         0.56  ...       0.58      9.8        6\n",
              "4            7.4              0.70         0.00  ...       0.56      9.4        5\n",
              "\n",
              "[5 rows x 12 columns]"
            ]
          },
          "metadata": {
            "tags": []
          },
          "execution_count": 269
        }
      ]
    },
    {
      "cell_type": "code",
      "metadata": {
        "id": "ECoVTGmmPK1M",
        "colab_type": "code",
        "outputId": "fe1b7e49-3ad2-4840-ee12-06653e0ed54f",
        "colab": {
          "base_uri": "https://localhost:8080/",
          "height": 323
        }
      },
      "source": [
        "#Checking if the dataset have null value, check the cells in eack column\n",
        "df.info()"
      ],
      "execution_count": 270,
      "outputs": [
        {
          "output_type": "stream",
          "text": [
            "<class 'pandas.core.frame.DataFrame'>\n",
            "RangeIndex: 1599 entries, 0 to 1598\n",
            "Data columns (total 12 columns):\n",
            "fixed acidity           1599 non-null float64\n",
            "volatile acidity        1599 non-null float64\n",
            "citric acid             1599 non-null float64\n",
            "residual sugar          1599 non-null float64\n",
            "chlorides               1599 non-null float64\n",
            "free sulfur dioxide     1599 non-null float64\n",
            "total sulfur dioxide    1599 non-null float64\n",
            "density                 1599 non-null float64\n",
            "pH                      1599 non-null float64\n",
            "sulphates               1599 non-null float64\n",
            "alcohol                 1599 non-null float64\n",
            "quality                 1599 non-null int64\n",
            "dtypes: float64(11), int64(1)\n",
            "memory usage: 150.0 KB\n"
          ],
          "name": "stdout"
        }
      ]
    },
    {
      "cell_type": "code",
      "metadata": {
        "id": "M-uZg5xoIVTC",
        "colab_type": "code",
        "outputId": "f8f4d769-9fa4-4a2e-d8e8-98dedaf42eaa",
        "colab": {
          "base_uri": "https://localhost:8080/",
          "height": 297
        }
      },
      "source": [
        "#Now, have a look at the mean, \n",
        "#so that we could define the features and the quality as high and low, good and bad\n",
        "#if it's higher than the mean value, then it's high/good, otherwise, it's defined as low/bad.\n",
        "df.describe()"
      ],
      "execution_count": 271,
      "outputs": [
        {
          "output_type": "execute_result",
          "data": {
            "text/html": [
              "<div>\n",
              "<style scoped>\n",
              "    .dataframe tbody tr th:only-of-type {\n",
              "        vertical-align: middle;\n",
              "    }\n",
              "\n",
              "    .dataframe tbody tr th {\n",
              "        vertical-align: top;\n",
              "    }\n",
              "\n",
              "    .dataframe thead th {\n",
              "        text-align: right;\n",
              "    }\n",
              "</style>\n",
              "<table border=\"1\" class=\"dataframe\">\n",
              "  <thead>\n",
              "    <tr style=\"text-align: right;\">\n",
              "      <th></th>\n",
              "      <th>fixed acidity</th>\n",
              "      <th>volatile acidity</th>\n",
              "      <th>citric acid</th>\n",
              "      <th>residual sugar</th>\n",
              "      <th>chlorides</th>\n",
              "      <th>free sulfur dioxide</th>\n",
              "      <th>total sulfur dioxide</th>\n",
              "      <th>density</th>\n",
              "      <th>pH</th>\n",
              "      <th>sulphates</th>\n",
              "      <th>alcohol</th>\n",
              "      <th>quality</th>\n",
              "    </tr>\n",
              "  </thead>\n",
              "  <tbody>\n",
              "    <tr>\n",
              "      <th>count</th>\n",
              "      <td>1599.000000</td>\n",
              "      <td>1599.000000</td>\n",
              "      <td>1599.000000</td>\n",
              "      <td>1599.000000</td>\n",
              "      <td>1599.000000</td>\n",
              "      <td>1599.000000</td>\n",
              "      <td>1599.000000</td>\n",
              "      <td>1599.000000</td>\n",
              "      <td>1599.000000</td>\n",
              "      <td>1599.000000</td>\n",
              "      <td>1599.000000</td>\n",
              "      <td>1599.000000</td>\n",
              "    </tr>\n",
              "    <tr>\n",
              "      <th>mean</th>\n",
              "      <td>8.319637</td>\n",
              "      <td>0.527821</td>\n",
              "      <td>0.270976</td>\n",
              "      <td>2.538806</td>\n",
              "      <td>0.087467</td>\n",
              "      <td>15.874922</td>\n",
              "      <td>46.467792</td>\n",
              "      <td>0.996747</td>\n",
              "      <td>3.311113</td>\n",
              "      <td>0.658149</td>\n",
              "      <td>10.422983</td>\n",
              "      <td>5.636023</td>\n",
              "    </tr>\n",
              "    <tr>\n",
              "      <th>std</th>\n",
              "      <td>1.741096</td>\n",
              "      <td>0.179060</td>\n",
              "      <td>0.194801</td>\n",
              "      <td>1.409928</td>\n",
              "      <td>0.047065</td>\n",
              "      <td>10.460157</td>\n",
              "      <td>32.895324</td>\n",
              "      <td>0.001887</td>\n",
              "      <td>0.154386</td>\n",
              "      <td>0.169507</td>\n",
              "      <td>1.065668</td>\n",
              "      <td>0.807569</td>\n",
              "    </tr>\n",
              "    <tr>\n",
              "      <th>min</th>\n",
              "      <td>4.600000</td>\n",
              "      <td>0.120000</td>\n",
              "      <td>0.000000</td>\n",
              "      <td>0.900000</td>\n",
              "      <td>0.012000</td>\n",
              "      <td>1.000000</td>\n",
              "      <td>6.000000</td>\n",
              "      <td>0.990070</td>\n",
              "      <td>2.740000</td>\n",
              "      <td>0.330000</td>\n",
              "      <td>8.400000</td>\n",
              "      <td>3.000000</td>\n",
              "    </tr>\n",
              "    <tr>\n",
              "      <th>25%</th>\n",
              "      <td>7.100000</td>\n",
              "      <td>0.390000</td>\n",
              "      <td>0.090000</td>\n",
              "      <td>1.900000</td>\n",
              "      <td>0.070000</td>\n",
              "      <td>7.000000</td>\n",
              "      <td>22.000000</td>\n",
              "      <td>0.995600</td>\n",
              "      <td>3.210000</td>\n",
              "      <td>0.550000</td>\n",
              "      <td>9.500000</td>\n",
              "      <td>5.000000</td>\n",
              "    </tr>\n",
              "    <tr>\n",
              "      <th>50%</th>\n",
              "      <td>7.900000</td>\n",
              "      <td>0.520000</td>\n",
              "      <td>0.260000</td>\n",
              "      <td>2.200000</td>\n",
              "      <td>0.079000</td>\n",
              "      <td>14.000000</td>\n",
              "      <td>38.000000</td>\n",
              "      <td>0.996750</td>\n",
              "      <td>3.310000</td>\n",
              "      <td>0.620000</td>\n",
              "      <td>10.200000</td>\n",
              "      <td>6.000000</td>\n",
              "    </tr>\n",
              "    <tr>\n",
              "      <th>75%</th>\n",
              "      <td>9.200000</td>\n",
              "      <td>0.640000</td>\n",
              "      <td>0.420000</td>\n",
              "      <td>2.600000</td>\n",
              "      <td>0.090000</td>\n",
              "      <td>21.000000</td>\n",
              "      <td>62.000000</td>\n",
              "      <td>0.997835</td>\n",
              "      <td>3.400000</td>\n",
              "      <td>0.730000</td>\n",
              "      <td>11.100000</td>\n",
              "      <td>6.000000</td>\n",
              "    </tr>\n",
              "    <tr>\n",
              "      <th>max</th>\n",
              "      <td>15.900000</td>\n",
              "      <td>1.580000</td>\n",
              "      <td>1.000000</td>\n",
              "      <td>15.500000</td>\n",
              "      <td>0.611000</td>\n",
              "      <td>72.000000</td>\n",
              "      <td>289.000000</td>\n",
              "      <td>1.003690</td>\n",
              "      <td>4.010000</td>\n",
              "      <td>2.000000</td>\n",
              "      <td>14.900000</td>\n",
              "      <td>8.000000</td>\n",
              "    </tr>\n",
              "  </tbody>\n",
              "</table>\n",
              "</div>"
            ],
            "text/plain": [
              "       fixed acidity  volatile acidity  ...      alcohol      quality\n",
              "count    1599.000000       1599.000000  ...  1599.000000  1599.000000\n",
              "mean        8.319637          0.527821  ...    10.422983     5.636023\n",
              "std         1.741096          0.179060  ...     1.065668     0.807569\n",
              "min         4.600000          0.120000  ...     8.400000     3.000000\n",
              "25%         7.100000          0.390000  ...     9.500000     5.000000\n",
              "50%         7.900000          0.520000  ...    10.200000     6.000000\n",
              "75%         9.200000          0.640000  ...    11.100000     6.000000\n",
              "max        15.900000          1.580000  ...    14.900000     8.000000\n",
              "\n",
              "[8 rows x 12 columns]"
            ]
          },
          "metadata": {
            "tags": []
          },
          "execution_count": 271
        }
      ]
    },
    {
      "cell_type": "markdown",
      "metadata": {
        "id": "5fxk_nNWmqY6",
        "colab_type": "text"
      },
      "source": [
        "###Prepare Data"
      ]
    },
    {
      "cell_type": "markdown",
      "metadata": {
        "id": "S0kShe7N4pcb",
        "colab_type": "text"
      },
      "source": [
        "First we split the label by defining Good and Bad, as mentioned in kaggle https://www.kaggle.com/uciml/red-wine-quality-cortez-et-al-2009 where we find the dataset, the quality of a good red wine should be 6.5, so the point we split them is 6.5. We are doing it for the decision tree model."
      ]
    },
    {
      "cell_type": "markdown",
      "metadata": {
        "id": "Z7e-WJMBmYME",
        "colab_type": "text"
      },
      "source": [
        "###Split the Quality"
      ]
    },
    {
      "cell_type": "code",
      "metadata": {
        "id": "BIQs20U9k6OY",
        "colab_type": "code",
        "outputId": "71ddace5-5d55-456c-a0b4-4c3a1307df3c",
        "colab": {
          "base_uri": "https://localhost:8080/",
          "height": 35
        }
      },
      "source": [
        "#check the unique number of all quality in the column\n",
        "df['quality'].unique()"
      ],
      "execution_count": 272,
      "outputs": [
        {
          "output_type": "execute_result",
          "data": {
            "text/plain": [
              "array([5, 6, 7, 4, 8, 3])"
            ]
          },
          "metadata": {
            "tags": []
          },
          "execution_count": 272
        }
      ]
    },
    {
      "cell_type": "code",
      "metadata": {
        "id": "dn0xL4oplRbr",
        "colab_type": "code",
        "colab": {}
      },
      "source": [
        "# Define the quality by 'Good' and 'Bad'.\n",
        "splitQuality = []\n",
        "\n",
        "for i in df['quality']:\n",
        "    if i <= 6.5:\n",
        "        splitQuality.append('Bad')\n",
        "    elif i > 6.5:\n",
        "        splitQuality.append('Good')\n",
        "\n",
        "df['splitQuality'] = splitQuality\n",
        "#make a new column for it "
      ],
      "execution_count": 0,
      "outputs": []
    },
    {
      "cell_type": "code",
      "metadata": {
        "id": "CPkz0NpJoU3G",
        "colab_type": "code",
        "outputId": "494ad932-0930-4afb-89bd-3fecf10d05ea",
        "colab": {
          "base_uri": "https://localhost:8080/",
          "height": 35
        }
      },
      "source": [
        "#count each type of quality\n",
        "from collections import Counter\n",
        "\n",
        "Counter(df['splitQuality'])"
      ],
      "execution_count": 274,
      "outputs": [
        {
          "output_type": "execute_result",
          "data": {
            "text/plain": [
              "Counter({'Bad': 1382, 'Good': 217})"
            ]
          },
          "metadata": {
            "tags": []
          },
          "execution_count": 274
        }
      ]
    },
    {
      "cell_type": "code",
      "metadata": {
        "id": "rtE8XMShbM32",
        "colab_type": "code",
        "outputId": "ab86ceb0-3838-4569-8081-75197f15b2a8",
        "colab": {
          "base_uri": "https://localhost:8080/",
          "height": 197
        }
      },
      "source": [
        "#Checking how the df changed\n",
        "traningData = df.values[:5]\n",
        "traningData"
      ],
      "execution_count": 275,
      "outputs": [
        {
          "output_type": "execute_result",
          "data": {
            "text/plain": [
              "array([[7.4, 0.7, 0.0, 1.9, 0.076, 11.0, 34.0, 0.9978, 3.51, 0.56, 9.4,\n",
              "        5, 'Bad'],\n",
              "       [7.8, 0.88, 0.0, 2.6, 0.098, 25.0, 67.0, 0.9968, 3.2, 0.68, 9.8,\n",
              "        5, 'Bad'],\n",
              "       [7.8, 0.76, 0.04, 2.3, 0.092, 15.0, 54.0, 0.997, 3.26, 0.65, 9.8,\n",
              "        5, 'Bad'],\n",
              "       [11.2, 0.28, 0.56, 1.9, 0.075, 17.0, 60.0, 0.998, 3.16, 0.58, 9.8,\n",
              "        6, 'Bad'],\n",
              "       [7.4, 0.7, 0.0, 1.9, 0.076, 11.0, 34.0, 0.9978, 3.51, 0.56, 9.4,\n",
              "        5, 'Bad']], dtype=object)"
            ]
          },
          "metadata": {
            "tags": []
          },
          "execution_count": 275
        }
      ]
    },
    {
      "cell_type": "code",
      "metadata": {
        "id": "75IZh84o6maM",
        "colab_type": "code",
        "outputId": "d32197ac-de0e-47b0-843e-c74d33f5035f",
        "colab": {
          "base_uri": "https://localhost:8080/",
          "height": 143
        }
      },
      "source": [
        "# After we defined all the label, \n",
        "# we define a new dataframe with the defined data called spliteddf\n",
        "spliteddf = pd.DataFrame(df, columns=['splitQuality'])\n",
        "#display in a 2D array\n",
        "spliteddf.values"
      ],
      "execution_count": 276,
      "outputs": [
        {
          "output_type": "execute_result",
          "data": {
            "text/plain": [
              "array([['Bad'],\n",
              "       ['Bad'],\n",
              "       ['Bad'],\n",
              "       ...,\n",
              "       ['Bad'],\n",
              "       ['Bad'],\n",
              "       ['Bad']], dtype=object)"
            ]
          },
          "metadata": {
            "tags": []
          },
          "execution_count": 276
        }
      ]
    },
    {
      "cell_type": "code",
      "metadata": {
        "id": "XvyWCwEqbQ61",
        "colab_type": "code",
        "outputId": "600d19d5-b37b-4b0a-e8e9-0e00fdd0a669",
        "colab": {
          "base_uri": "https://localhost:8080/",
          "height": 125
        }
      },
      "source": [
        "#let check the information of the new dataframe and have a look at is a null exist.\n",
        "spliteddf.info()"
      ],
      "execution_count": 277,
      "outputs": [
        {
          "output_type": "stream",
          "text": [
            "<class 'pandas.core.frame.DataFrame'>\n",
            "RangeIndex: 1599 entries, 0 to 1598\n",
            "Data columns (total 1 columns):\n",
            "splitQuality    1599 non-null object\n",
            "dtypes: object(1)\n",
            "memory usage: 12.6+ KB\n"
          ],
          "name": "stdout"
        }
      ]
    },
    {
      "cell_type": "code",
      "metadata": {
        "id": "ztrZurUyKxs-",
        "colab_type": "code",
        "outputId": "77636887-732c-421b-d128-a63e4247220d",
        "colab": {
          "base_uri": "https://localhost:8080/",
          "height": 323
        }
      },
      "source": [
        "#now we recover our df dataframe with the categorized quality, splitQuality\n",
        "df = pd.DataFrame(df, columns=['fixed acidity','volatile acidity',\n",
        "                               'citric acid','residual sugar','chlorides',\n",
        "                               'free sulfur dioxide','total sulfur dioxide',\n",
        "                               'density','pH','sulphates','alcohol','splitQuality'])\n",
        "df.info()"
      ],
      "execution_count": 278,
      "outputs": [
        {
          "output_type": "stream",
          "text": [
            "<class 'pandas.core.frame.DataFrame'>\n",
            "RangeIndex: 1599 entries, 0 to 1598\n",
            "Data columns (total 12 columns):\n",
            "fixed acidity           1599 non-null float64\n",
            "volatile acidity        1599 non-null float64\n",
            "citric acid             1599 non-null float64\n",
            "residual sugar          1599 non-null float64\n",
            "chlorides               1599 non-null float64\n",
            "free sulfur dioxide     1599 non-null float64\n",
            "total sulfur dioxide    1599 non-null float64\n",
            "density                 1599 non-null float64\n",
            "pH                      1599 non-null float64\n",
            "sulphates               1599 non-null float64\n",
            "alcohol                 1599 non-null float64\n",
            "splitQuality            1599 non-null object\n",
            "dtypes: float64(11), object(1)\n",
            "memory usage: 150.0+ KB\n"
          ],
          "name": "stdout"
        }
      ]
    },
    {
      "cell_type": "markdown",
      "metadata": {
        "id": "IFcnAub4SZQS",
        "colab_type": "text"
      },
      "source": [
        "###Helper Functions"
      ]
    },
    {
      "cell_type": "markdown",
      "metadata": {
        "id": "Ff4dn_D1nfLy",
        "colab_type": "text"
      },
      "source": [
        "####Check the Purity of the Dataset"
      ]
    },
    {
      "cell_type": "code",
      "metadata": {
        "id": "x1yENYNufDud",
        "colab_type": "code",
        "colab": {}
      },
      "source": [
        "def checkThePurity(spliteddf):\n",
        "  #define qualityColumn as the label column, \n",
        "  #[:, -1] means the last column which is splitedQuality\n",
        "  qualityColumn = spliteddf[:, -1]\n",
        "  #define uniqueQuality as the unique values of the qualityColumn\n",
        "  uniqueQuality = np.unique(qualityColumn)\n",
        "  # if it's one class,（only good or only bad), the dataset is pure\n",
        "  if len(uniqueQuality) == 1:\n",
        "    return True\n",
        "  else:\n",
        "    return False\n"
      ],
      "execution_count": 0,
      "outputs": []
    },
    {
      "cell_type": "code",
      "metadata": {
        "id": "ZnLexVaikaR5",
        "colab_type": "code",
        "outputId": "3d0f35f0-2ce4-49cf-f0d8-9b66e094ad2f",
        "colab": {
          "base_uri": "https://localhost:8080/",
          "height": 35
        }
      },
      "source": [
        "#let have a test on all labels of quality\n",
        "# it should return False by input the whole dataset\n",
        "# because it have good and bad qualitiies and it is not pure \n",
        "checkThePurity(df.values)"
      ],
      "execution_count": 280,
      "outputs": [
        {
          "output_type": "execute_result",
          "data": {
            "text/plain": [
              "False"
            ]
          },
          "metadata": {
            "tags": []
          },
          "execution_count": 280
        }
      ]
    },
    {
      "cell_type": "markdown",
      "metadata": {
        "id": "HmA2S3iIlkV5",
        "colab_type": "text"
      },
      "source": [
        "####Classify the Dataset"
      ]
    },
    {
      "cell_type": "code",
      "metadata": {
        "id": "U1SzkCdulr9_",
        "colab_type": "code",
        "colab": {}
      },
      "source": [
        "def classifyDS(spliteddf):\n",
        "  '''\n",
        "  if the data is pure \n",
        "  which means it only have one class(good or bad),\n",
        "  this function will work to identify the label(quality)\n",
        "  '''\n",
        "  #define qualityColumn as the label column, \n",
        "  #[:, -1] means the last column which is splitedQuality\n",
        "  qualityColumn = spliteddf[:, -1]\n",
        "  #biuld two array, \n",
        "  #define uniqueQuality as the unique values of the qualityColumn\n",
        "  #define CountOfUniqueQuality as count of the unique values of the qualityColumn\n",
        "  #which means how much of good or bad\n",
        "  #turn the return_counts to Ture tells us how much of the lable appear\n",
        "  uniqueQuality, CountOfUniqueQuality = np.unique(qualityColumn, return_counts=True)\n",
        "  #get the index of the largest unique quality\n",
        "  qualityindex = CountOfUniqueQuality.argmax()\n",
        "  #unique them, we need a single answer\n",
        "  classifiedQuality = uniqueQuality[qualityindex]\n",
        "\n",
        "  return classifiedQuality"
      ],
      "execution_count": 0,
      "outputs": []
    },
    {
      "cell_type": "code",
      "metadata": {
        "id": "3k2KrF28pI4y",
        "colab_type": "code",
        "outputId": "b80a71be-d37c-46e0-e66e-f6ad9b7e763a",
        "colab": {
          "base_uri": "https://localhost:8080/",
          "height": 35
        }
      },
      "source": [
        "#let have a test on all labels of quality\n",
        "# it should return 'Good' by input the whole dataset\n",
        "# because the largest one is Good\n",
        "classifyDS(df.values)"
      ],
      "execution_count": 282,
      "outputs": [
        {
          "output_type": "execute_result",
          "data": {
            "text/plain": [
              "'Bad'"
            ]
          },
          "metadata": {
            "tags": []
          },
          "execution_count": 282
        }
      ]
    },
    {
      "cell_type": "markdown",
      "metadata": {
        "id": "3D4_A6gGnYg0",
        "colab_type": "text"
      },
      "source": [
        "####Calculate the Entropy\n",
        "\n"
      ]
    },
    {
      "cell_type": "markdown",
      "metadata": {
        "id": "Wb8l2u2qDIAH",
        "colab_type": "text"
      },
      "source": [
        "The algorithm is: \n",
        "$ Ent(X) = \\sum_{c \\in C} -p(c) log_2p(c) $* $Ent(D)=-\\sum_{k=1}^{\\left|y\\right|}p_{k}log_{2}p_{k}$ \n",
        "  * where:\n",
        "      * $H(X)$: entropy of entire dataset X\n",
        "      * $k$: the set of labels\n",
        "      * $p_k$: proportion of # of instances in class c to all instances"
      ]
    },
    {
      "cell_type": "code",
      "metadata": {
        "id": "tPJNVEpIXBDj",
        "colab_type": "code",
        "colab": {}
      },
      "source": [
        "def calcEntropy(spliteddf):\n",
        "  #the size of quality\n",
        "  totalNumberOfQualities = len(spliteddf)\n",
        "  #create a data dictionary\n",
        "  countsOfQuality = {}\n",
        "  #define qualityColumn as the label column, \n",
        "  #[:, -1] means the last column which is splitedQuality\n",
        "\n",
        "  qualityColumn = [example[-1] for example in spliteddf]\n",
        "  #build two array, \n",
        "  #define uniqueQuality as the unique values of the qualityColumn\n",
        "  #define CountOfUniqueQuality as count of the unique values of the qualityColumn\n",
        "  #which means how much of good or bad\n",
        "  #turn the return_counts to Ture tells us how much of the lable appear\n",
        "  #we only ues CountOfUniqueQuality here\n",
        "  _, CountOfUniqueQuality = np.unique(qualityColumn, return_counts=True)\n",
        "  #input the CountOfUniqueQuality into the data dictionary\n",
        "  countsOfQuality = CountOfUniqueQuality\n",
        "  \n",
        "  #now we do the same step to define qualityColumn as the label column,\n",
        "  #in the following steps, tuple indices must be integers or slices, not tuple\n",
        "\n",
        " \n",
        "\n",
        "  probabilities = countsOfQuality / totalNumberOfQualities \n",
        "  # Calculate the entropy of each single class\n",
        "  entropy = sum(probabilities * -np.log2(probabilities)) \n",
        "  # Add up the entropy of each class\n",
        "  \n",
        "  return entropy"
      ],
      "execution_count": 0,
      "outputs": []
    },
    {
      "cell_type": "code",
      "metadata": {
        "id": "51E64paQT4od",
        "colab_type": "code",
        "outputId": "0a913d57-de34-47b1-afb5-dbe2a589200a",
        "colab": {
          "base_uri": "https://localhost:8080/",
          "height": 35
        }
      },
      "source": [
        "# have a test on the spliteddf\n",
        "calcEntropy(df.values)"
      ],
      "execution_count": 284,
      "outputs": [
        {
          "output_type": "execute_result",
          "data": {
            "text/plain": [
              "0.5728919822189028"
            ]
          },
          "metadata": {
            "tags": []
          },
          "execution_count": 284
        }
      ]
    },
    {
      "cell_type": "markdown",
      "metadata": {
        "id": "mQ4YzFI51u6G",
        "colab_type": "text"
      },
      "source": [
        "####Split Attributes Data"
      ]
    },
    {
      "cell_type": "code",
      "metadata": {
        "id": "-c2ZhQOw2K9w",
        "colab_type": "code",
        "colab": {}
      },
      "source": [
        "def splitData(spliteddf, columnToSplit, valueToSplit):\n",
        "    #for the data we want to split\n",
        "    splitColumnsValues = spliteddf[:, columnToSplit]\n",
        "\n",
        "    #the spliteddf dataframe is only categorical \n",
        "    # here we ready two type of input for data splitting\n",
        "    \n",
        "\n",
        "     #for the value that we split bigger than the input value is data_T\n",
        "     #  the value that we split smaller than the input value is data_F\n",
        "    data_T = spliteddf[splitColumnsValues <= valueToSplit]\n",
        "    data_F = spliteddf[splitColumnsValues > valueToSplit]\n",
        "    \n",
        "    ''' \n",
        "    else:\n",
        "    \n",
        "    \n",
        "    valueToSplit is the value that we used to split\n",
        "    if the value in the column = valueToSplit\n",
        "    then we define as data_T\n",
        "    otherwise we define as data_F\n",
        "    \n",
        "    this means, if we input High,\n",
        "    data_T only output the dataset with High in this column\n",
        "    data_F output the rest.\n",
        "    \n",
        "    \n",
        "    data_T = spliteddf[splitColumnsValues == valueToSplit]\n",
        "    data_F = spliteddf[splitColumnsValues != valueToSplit]\n",
        "    '''\n",
        "    return data_T, data_F"
      ],
      "execution_count": 0,
      "outputs": []
    },
    {
      "cell_type": "code",
      "metadata": {
        "id": "N2WwDbFXDvp8",
        "colab_type": "code",
        "outputId": "4b5e2c86-a6e6-400a-92ea-8bb261c84556",
        "colab": {
          "base_uri": "https://localhost:8080/",
          "height": 204
        }
      },
      "source": [
        "#let have a test,\n",
        "#valueToSplit = 2 and shows all value above 2\n",
        "#we let the second column only showing 'High' if input High\n",
        "\n",
        "columnToSplit = 1\n",
        "valueToSplit = 2\n",
        "data_T, data_F = splitData(df.values, columnToSplit, valueToSplit)\n",
        "\n",
        "#show the output,\n",
        "#wecan see that it shows all value above 2/ the secong column only have 'High' \n",
        "#and other columns showing corresponding result\n",
        "\n",
        "col1valueHigh = pd.DataFrame(data_T, columns=df.columns)\n",
        "\n",
        "col1valueHigh.head()"
      ],
      "execution_count": 286,
      "outputs": [
        {
          "output_type": "execute_result",
          "data": {
            "text/html": [
              "<div>\n",
              "<style scoped>\n",
              "    .dataframe tbody tr th:only-of-type {\n",
              "        vertical-align: middle;\n",
              "    }\n",
              "\n",
              "    .dataframe tbody tr th {\n",
              "        vertical-align: top;\n",
              "    }\n",
              "\n",
              "    .dataframe thead th {\n",
              "        text-align: right;\n",
              "    }\n",
              "</style>\n",
              "<table border=\"1\" class=\"dataframe\">\n",
              "  <thead>\n",
              "    <tr style=\"text-align: right;\">\n",
              "      <th></th>\n",
              "      <th>fixed acidity</th>\n",
              "      <th>volatile acidity</th>\n",
              "      <th>citric acid</th>\n",
              "      <th>residual sugar</th>\n",
              "      <th>chlorides</th>\n",
              "      <th>free sulfur dioxide</th>\n",
              "      <th>total sulfur dioxide</th>\n",
              "      <th>density</th>\n",
              "      <th>pH</th>\n",
              "      <th>sulphates</th>\n",
              "      <th>alcohol</th>\n",
              "      <th>splitQuality</th>\n",
              "    </tr>\n",
              "  </thead>\n",
              "  <tbody>\n",
              "    <tr>\n",
              "      <th>0</th>\n",
              "      <td>7.4</td>\n",
              "      <td>0.7</td>\n",
              "      <td>0</td>\n",
              "      <td>1.9</td>\n",
              "      <td>0.076</td>\n",
              "      <td>11</td>\n",
              "      <td>34</td>\n",
              "      <td>0.9978</td>\n",
              "      <td>3.51</td>\n",
              "      <td>0.56</td>\n",
              "      <td>9.4</td>\n",
              "      <td>Bad</td>\n",
              "    </tr>\n",
              "    <tr>\n",
              "      <th>1</th>\n",
              "      <td>7.8</td>\n",
              "      <td>0.88</td>\n",
              "      <td>0</td>\n",
              "      <td>2.6</td>\n",
              "      <td>0.098</td>\n",
              "      <td>25</td>\n",
              "      <td>67</td>\n",
              "      <td>0.9968</td>\n",
              "      <td>3.2</td>\n",
              "      <td>0.68</td>\n",
              "      <td>9.8</td>\n",
              "      <td>Bad</td>\n",
              "    </tr>\n",
              "    <tr>\n",
              "      <th>2</th>\n",
              "      <td>7.8</td>\n",
              "      <td>0.76</td>\n",
              "      <td>0.04</td>\n",
              "      <td>2.3</td>\n",
              "      <td>0.092</td>\n",
              "      <td>15</td>\n",
              "      <td>54</td>\n",
              "      <td>0.997</td>\n",
              "      <td>3.26</td>\n",
              "      <td>0.65</td>\n",
              "      <td>9.8</td>\n",
              "      <td>Bad</td>\n",
              "    </tr>\n",
              "    <tr>\n",
              "      <th>3</th>\n",
              "      <td>11.2</td>\n",
              "      <td>0.28</td>\n",
              "      <td>0.56</td>\n",
              "      <td>1.9</td>\n",
              "      <td>0.075</td>\n",
              "      <td>17</td>\n",
              "      <td>60</td>\n",
              "      <td>0.998</td>\n",
              "      <td>3.16</td>\n",
              "      <td>0.58</td>\n",
              "      <td>9.8</td>\n",
              "      <td>Bad</td>\n",
              "    </tr>\n",
              "    <tr>\n",
              "      <th>4</th>\n",
              "      <td>7.4</td>\n",
              "      <td>0.7</td>\n",
              "      <td>0</td>\n",
              "      <td>1.9</td>\n",
              "      <td>0.076</td>\n",
              "      <td>11</td>\n",
              "      <td>34</td>\n",
              "      <td>0.9978</td>\n",
              "      <td>3.51</td>\n",
              "      <td>0.56</td>\n",
              "      <td>9.4</td>\n",
              "      <td>Bad</td>\n",
              "    </tr>\n",
              "  </tbody>\n",
              "</table>\n",
              "</div>"
            ],
            "text/plain": [
              "  fixed acidity volatile acidity citric acid  ... sulphates alcohol splitQuality\n",
              "0           7.4              0.7           0  ...      0.56     9.4          Bad\n",
              "1           7.8             0.88           0  ...      0.68     9.8          Bad\n",
              "2           7.8             0.76        0.04  ...      0.65     9.8          Bad\n",
              "3          11.2             0.28        0.56  ...      0.58     9.8          Bad\n",
              "4           7.4              0.7           0  ...      0.56     9.4          Bad\n",
              "\n",
              "[5 rows x 12 columns]"
            ]
          },
          "metadata": {
            "tags": []
          },
          "execution_count": 286
        }
      ]
    },
    {
      "cell_type": "markdown",
      "metadata": {
        "id": "UVHLjG0C3cnb",
        "colab_type": "text"
      },
      "source": [
        "####Overall Entropy\n",
        "\n"
      ]
    },
    {
      "cell_type": "markdown",
      "metadata": {
        "id": "27CF2IULEouw",
        "colab_type": "text"
      },
      "source": [
        "The computation algorithms are\n",
        "\n",
        "$p_T $ = $\\frac{len(data_T)}{|n|}$\n",
        "\n",
        "$p_F $ = $\\frac{len(data_F)}{|n|}$\n",
        "\n",
        "Then\n",
        "\n",
        "The overall entroy is equal to $p_T \\frac{len(data_T)}{|n|} + p_F \\frac{len(data_F)}{|n|}$"
      ]
    },
    {
      "cell_type": "code",
      "metadata": {
        "id": "L3TlFsHJAJBR",
        "colab_type": "code",
        "colab": {}
      },
      "source": [
        "def calcOverallEntropy(data_T, data_F):\n",
        "    \n",
        "    n = len(data_T) + len(data_F)\n",
        "    p_T = len(data_T) / n\n",
        "    p_F = len(data_F) / n\n",
        "\n",
        "    overallEntropy = (p_T * calcEntropy(data_T) \n",
        "              + p_F * calcEntropy(data_F))\n",
        "    \n",
        "    return overallEntropy"
      ],
      "execution_count": 0,
      "outputs": []
    },
    {
      "cell_type": "markdown",
      "metadata": {
        "id": "rPlv6-kVrS4M",
        "colab_type": "text"
      },
      "source": [
        "####Possible Splits"
      ]
    },
    {
      "cell_type": "code",
      "metadata": {
        "id": "B0_8BEGUrSLu",
        "colab_type": "code",
        "colab": {}
      },
      "source": [
        "def possibleSplits(spliteddf):\n",
        "  # create a dictionary\n",
        "    possibleSplitsCol = {}\n",
        "    # spliteddf.shape will output the shape of this dataframe\n",
        "    #(1599, 12)\n",
        "    #we only need the count of the column\n",
        "    #len(spliteddf[0]) - 1 = number of all columns - 1\n",
        "    #countOfColumns = len(spliteddf[0]) - 1\n",
        "    _,countOfColumns = spliteddf.shape\n",
        "    #creat an loop, range(countOfColumns - 1)mean all column except the lablel column\n",
        "    #get the unique values of each column\n",
        "    for columnsNum in range(countOfColumns - 1 ):\n",
        "            '''\n",
        "            possibleSplitsCol[columnsNum]= []\n",
        "            vals= spliteddf[:,columnsNum]\n",
        "            uniqueVal = np.unique(vals)\n",
        "            for col in range(len(uniqueVal)):\n",
        "                \n",
        "                if columnsNum!=0:\n",
        "                    currentVal =uniqueVal[col]\n",
        "                    preVal=uniqueVal[col-1]\n",
        "                    possibleSplits = float(currentVal+preVal) / 2.0\n",
        "                    possibleSplitsCol[columnsNum].append(possibleSplits)\n",
        "        \n",
        "            '''\n",
        "            possibleSplitsCol[columnsNum]= []\n",
        "            val = spliteddf[:, columnsNum]\n",
        "            uniqueVal = np.unique(val)\n",
        "            #if there is more than two value, then get the column\n",
        "            if columnsNum!=0:\n",
        "                possibleSplitsCol[columnsNum] = uniqueVal\n",
        "            \n",
        "    return possibleSplitsCol"
      ],
      "execution_count": 0,
      "outputs": []
    },
    {
      "cell_type": "code",
      "metadata": {
        "id": "9NBqnBhtM4K6",
        "colab_type": "code",
        "outputId": "05da02ee-37e0-4307-e1d2-705c0c381610",
        "colab": {
          "base_uri": "https://localhost:8080/",
          "height": 251
        }
      },
      "source": [
        "countOfColumns = len(df.values[0]) - 1\n",
        "  #creat an loop, range(countOfColumns - 1)mean all column except the lablel column\n",
        "  #get the unique values of each column\n",
        "for columnsNum in range(countOfColumns):\n",
        "        val = [eg[columnsNum] for eg in df.values]\n",
        "        uniqueVal = np.unique(val)\n",
        "uniqueVal"
      ],
      "execution_count": 289,
      "outputs": [
        {
          "output_type": "execute_result",
          "data": {
            "text/plain": [
              "array([ 8.4       ,  8.5       ,  8.7       ,  8.8       ,  9.        ,\n",
              "        9.05      ,  9.1       ,  9.2       ,  9.23333333,  9.25      ,\n",
              "        9.3       ,  9.4       ,  9.5       ,  9.55      ,  9.56666667,\n",
              "        9.6       ,  9.7       ,  9.8       ,  9.9       ,  9.95      ,\n",
              "       10.        , 10.03333333, 10.1       , 10.2       , 10.3       ,\n",
              "       10.4       , 10.5       , 10.55      , 10.6       , 10.7       ,\n",
              "       10.75      , 10.8       , 10.9       , 11.        , 11.06666667,\n",
              "       11.1       , 11.2       , 11.3       , 11.4       , 11.5       ,\n",
              "       11.6       , 11.7       , 11.8       , 11.9       , 11.95      ,\n",
              "       12.        , 12.1       , 12.2       , 12.3       , 12.4       ,\n",
              "       12.5       , 12.6       , 12.7       , 12.8       , 12.9       ,\n",
              "       13.        , 13.1       , 13.2       , 13.3       , 13.4       ,\n",
              "       13.5       , 13.56666667, 13.6       , 14.        , 14.9       ])"
            ]
          },
          "metadata": {
            "tags": []
          },
          "execution_count": 289
        }
      ]
    },
    {
      "cell_type": "code",
      "metadata": {
        "id": "TnWHLi-FrvFk",
        "colab_type": "code",
        "outputId": "4c42cb3c-0c58-409a-87ac-9bb00576252e",
        "colab": {
          "base_uri": "https://localhost:8080/",
          "height": 2915
        }
      },
      "source": [
        "possibleSplits(df.values)\n"
      ],
      "execution_count": 290,
      "outputs": [
        {
          "output_type": "execute_result",
          "data": {
            "text/plain": [
              "{0: [],\n",
              " 1: array([0.12, 0.16, 0.18, 0.19, 0.2, 0.21, 0.22, 0.23, 0.24, 0.25, 0.26,\n",
              "        0.27, 0.28, 0.29, 0.295, 0.3, 0.305, 0.31, 0.315, 0.32, 0.33, 0.34,\n",
              "        0.35, 0.36, 0.365, 0.37, 0.38, 0.39, 0.395, 0.4, 0.41, 0.415, 0.42,\n",
              "        0.43, 0.44, 0.45, 0.46, 0.47, 0.475, 0.48, 0.49, 0.5, 0.51, 0.52,\n",
              "        0.53, 0.54, 0.545, 0.55, 0.56, 0.565, 0.57, 0.575, 0.58, 0.585,\n",
              "        0.59, 0.595, 0.6, 0.605, 0.61, 0.615, 0.62, 0.625, 0.63, 0.635,\n",
              "        0.64, 0.645, 0.65, 0.655, 0.66, 0.665, 0.67, 0.675, 0.68, 0.685,\n",
              "        0.69, 0.695, 0.7, 0.705, 0.71, 0.715, 0.72, 0.725, 0.73, 0.735,\n",
              "        0.74, 0.745, 0.75, 0.755, 0.76, 0.765, 0.77, 0.775, 0.78, 0.785,\n",
              "        0.79, 0.795, 0.8, 0.805, 0.81, 0.815, 0.82, 0.825, 0.83, 0.835,\n",
              "        0.84, 0.845, 0.85, 0.855, 0.86, 0.865, 0.87, 0.875, 0.88, 0.885,\n",
              "        0.89, 0.895, 0.9, 0.91, 0.915, 0.92, 0.935, 0.95, 0.955, 0.96,\n",
              "        0.965, 0.975, 0.98, 1.0, 1.005, 1.01, 1.02, 1.025, 1.035, 1.04,\n",
              "        1.07, 1.09, 1.115, 1.13, 1.18, 1.185, 1.24, 1.33, 1.58],\n",
              "       dtype=object),\n",
              " 2: array([0.0, 0.01, 0.02, 0.03, 0.04, 0.05, 0.06, 0.07, 0.08, 0.09, 0.1,\n",
              "        0.11, 0.12, 0.13, 0.14, 0.15, 0.16, 0.17, 0.18, 0.19, 0.2, 0.21,\n",
              "        0.22, 0.23, 0.24, 0.25, 0.26, 0.27, 0.28, 0.29, 0.3, 0.31, 0.32,\n",
              "        0.33, 0.34, 0.35, 0.36, 0.37, 0.38, 0.39, 0.4, 0.41, 0.42, 0.43,\n",
              "        0.44, 0.45, 0.46, 0.47, 0.48, 0.49, 0.5, 0.51, 0.52, 0.53, 0.54,\n",
              "        0.55, 0.56, 0.57, 0.58, 0.59, 0.6, 0.61, 0.62, 0.63, 0.64, 0.65,\n",
              "        0.66, 0.67, 0.68, 0.69, 0.7, 0.71, 0.72, 0.73, 0.74, 0.75, 0.76,\n",
              "        0.78, 0.79, 1.0], dtype=object),\n",
              " 3: array([0.9, 1.2, 1.3, 1.4, 1.5, 1.6, 1.65, 1.7, 1.75, 1.8, 1.9, 2.0, 2.05,\n",
              "        2.1, 2.15, 2.2, 2.25, 2.3, 2.35, 2.4, 2.5, 2.55, 2.6, 2.65, 2.7,\n",
              "        2.8, 2.85, 2.9, 2.95, 3.0, 3.1, 3.2, 3.3, 3.4, 3.45, 3.5, 3.6,\n",
              "        3.65, 3.7, 3.75, 3.8, 3.9, 4.0, 4.1, 4.2, 4.25, 4.3, 4.4, 4.5, 4.6,\n",
              "        4.65, 4.7, 4.8, 5.0, 5.1, 5.15, 5.2, 5.4, 5.5, 5.6, 5.7, 5.8, 5.9,\n",
              "        6.0, 6.1, 6.2, 6.3, 6.4, 6.55, 6.6, 6.7, 7.0, 7.2, 7.3, 7.5, 7.8,\n",
              "        7.9, 8.1, 8.3, 8.6, 8.8, 8.9, 9.0, 10.7, 11.0, 12.9, 13.4, 13.8,\n",
              "        13.9, 15.4, 15.5], dtype=object),\n",
              " 4: array([0.012, 0.034, 0.038, 0.039, 0.041, 0.042, 0.043, 0.044, 0.045,\n",
              "        0.046, 0.047, 0.048, 0.049, 0.05, 0.051, 0.052000000000000005,\n",
              "        0.053, 0.054000000000000006, 0.055, 0.056, 0.057, 0.058, 0.059,\n",
              "        0.06, 0.061, 0.062, 0.063, 0.064, 0.065, 0.066, 0.067, 0.068,\n",
              "        0.069, 0.07, 0.071, 0.07200000000000001, 0.073,\n",
              "        0.07400000000000001, 0.075, 0.076, 0.077, 0.078, 0.079, 0.08,\n",
              "        0.081, 0.08199999999999999, 0.083, 0.084, 0.085, 0.086, 0.087,\n",
              "        0.08800000000000001, 0.08900000000000001, 0.09, 0.091, 0.092,\n",
              "        0.093, 0.094, 0.095, 0.096, 0.097, 0.098, 0.099, 0.1, 0.101, 0.102,\n",
              "        0.103, 0.104, 0.105, 0.106, 0.107, 0.108, 0.109, 0.11, 0.111,\n",
              "        0.112, 0.113, 0.114, 0.115, 0.116, 0.117, 0.118, 0.119, 0.12,\n",
              "        0.121, 0.122, 0.123, 0.124, 0.125, 0.126, 0.127, 0.128, 0.132,\n",
              "        0.136, 0.13699999999999998, 0.14300000000000002, 0.145, 0.146,\n",
              "        0.147, 0.14800000000000002, 0.152, 0.153, 0.157, 0.159, 0.161,\n",
              "        0.165, 0.166, 0.168, 0.16899999999999998, 0.17, 0.171, 0.172,\n",
              "        0.174, 0.17600000000000002, 0.17800000000000002,\n",
              "        0.18600000000000005, 0.19, 0.194, 0.2, 0.205, 0.213, 0.214,\n",
              "        0.21600000000000005, 0.222, 0.226, 0.23, 0.235, 0.236, 0.241,\n",
              "        0.243, 0.25, 0.263, 0.267, 0.27, 0.332, 0.337, 0.341, 0.343, 0.358,\n",
              "        0.36, 0.368, 0.369, 0.387, 0.401, 0.403, 0.413, 0.414, 0.415,\n",
              "        0.422, 0.464, 0.467, 0.61, 0.611], dtype=object),\n",
              " 5: array([1.0, 2.0, 3.0, 4.0, 5.0, 5.5, 6.0, 7.0, 8.0, 9.0, 10.0, 11.0, 12.0,\n",
              "        13.0, 14.0, 15.0, 16.0, 17.0, 18.0, 19.0, 20.0, 21.0, 22.0, 23.0,\n",
              "        24.0, 25.0, 26.0, 27.0, 28.0, 29.0, 30.0, 31.0, 32.0, 33.0, 34.0,\n",
              "        35.0, 36.0, 37.0, 37.5, 38.0, 39.0, 40.0, 40.5, 41.0, 42.0, 43.0,\n",
              "        45.0, 46.0, 47.0, 48.0, 50.0, 51.0, 52.0, 53.0, 54.0, 55.0, 57.0,\n",
              "        66.0, 68.0, 72.0], dtype=object),\n",
              " 6: array([6.0, 7.0, 8.0, 9.0, 10.0, 11.0, 12.0, 13.0, 14.0, 15.0, 16.0, 17.0,\n",
              "        18.0, 19.0, 20.0, 21.0, 22.0, 23.0, 24.0, 25.0, 26.0, 27.0, 28.0,\n",
              "        29.0, 30.0, 31.0, 32.0, 33.0, 34.0, 35.0, 36.0, 37.0, 38.0, 39.0,\n",
              "        40.0, 41.0, 42.0, 43.0, 44.0, 45.0, 46.0, 47.0, 48.0, 49.0, 50.0,\n",
              "        51.0, 52.0, 53.0, 54.0, 55.0, 56.0, 57.0, 58.0, 59.0, 60.0, 61.0,\n",
              "        62.0, 63.0, 64.0, 65.0, 66.0, 67.0, 68.0, 69.0, 70.0, 71.0, 72.0,\n",
              "        73.0, 74.0, 75.0, 76.0, 77.0, 77.5, 78.0, 79.0, 80.0, 81.0, 82.0,\n",
              "        83.0, 84.0, 85.0, 86.0, 87.0, 88.0, 89.0, 90.0, 91.0, 92.0, 93.0,\n",
              "        94.0, 95.0, 96.0, 98.0, 99.0, 100.0, 101.0, 102.0, 103.0, 104.0,\n",
              "        105.0, 106.0, 108.0, 109.0, 110.0, 111.0, 112.0, 113.0, 114.0,\n",
              "        115.0, 116.0, 119.0, 120.0, 121.0, 122.0, 124.0, 125.0, 126.0,\n",
              "        127.0, 128.0, 129.0, 130.0, 131.0, 133.0, 134.0, 135.0, 136.0,\n",
              "        139.0, 140.0, 141.0, 142.0, 143.0, 144.0, 145.0, 147.0, 148.0,\n",
              "        149.0, 151.0, 152.0, 153.0, 155.0, 160.0, 165.0, 278.0, 289.0],\n",
              "       dtype=object),\n",
              " 7: array([0.99007, 0.9902, 0.99064, 0.9908, 0.99084, 0.9912, 0.9915, 0.99154,\n",
              "        0.99157, 0.9916, 0.99162, 0.9917, 0.99182, 0.99191, 0.9921, 0.9922,\n",
              "        0.99235, 0.99236, 0.9924, 0.99242, 0.99252, 0.99256, 0.99258,\n",
              "        0.99264, 0.9927, 0.9928, 0.99286, 0.9929, 0.99292, 0.99294,\n",
              "        0.99306, 0.99314, 0.99316, 0.99318, 0.9932, 0.99322, 0.99323,\n",
              "        0.99328, 0.9933, 0.99331, 0.99332, 0.99334, 0.99336, 0.9934,\n",
              "        0.99341, 0.99344, 0.99346, 0.99348, 0.9935, 0.99352, 0.99354,\n",
              "        0.99356, 0.99357, 0.99358, 0.9936, 0.99362, 0.99364, 0.9937,\n",
              "        0.99371, 0.99374, 0.99376, 0.99378, 0.99379, 0.9938, 0.99384,\n",
              "        0.99385, 0.99386, 0.99387, 0.99388, 0.99392, 0.99394, 0.99395,\n",
              "        0.99396, 0.99397, 0.994, 0.99402, 0.99408, 0.9941, 0.99414,\n",
              "        0.99416, 0.99417, 0.99418, 0.99419, 0.9942, 0.99425, 0.99426,\n",
              "        0.99428, 0.9943, 0.99434, 0.99437, 0.99438, 0.99439, 0.9944,\n",
              "        0.99444, 0.99448, 0.99451, 0.99454, 0.99456, 0.99458, 0.99459,\n",
              "        0.9946, 0.99462, 0.99464, 0.99467, 0.99468, 0.9947, 0.99471,\n",
              "        0.99472, 0.99473, 0.99474, 0.99476, 0.99478, 0.99479, 0.9948,\n",
              "        0.99483, 0.99484, 0.99486, 0.99488, 0.99489, 0.9949, 0.99491,\n",
              "        0.99492, 0.99494, 0.99495, 0.99496, 0.99498, 0.99499, 0.995,\n",
              "        0.99501, 0.99502, 0.99504, 0.99506, 0.99508, 0.99509, 0.9951,\n",
              "        0.99512, 0.99514, 0.99516, 0.99517, 0.99518, 0.99519, 0.9952,\n",
              "        0.99521, 0.99522, 0.99523, 0.99524, 0.99525, 0.99526, 0.99528,\n",
              "        0.99529, 0.9953, 0.99531, 0.99532, 0.99533, 0.99534, 0.99536,\n",
              "        0.99538, 0.9954, 0.99541, 0.99542, 0.99543, 0.99544, 0.99545,\n",
              "        0.99546, 0.99547, 0.99549, 0.9955, 0.99551, 0.99552, 0.99553,\n",
              "        0.99554, 0.99555, 0.99556, 0.99557, 0.99558, 0.9956, 0.99562,\n",
              "        0.99564, 0.99565, 0.99566, 0.99568, 0.99569, 0.9957, 0.99572,\n",
              "        0.99573, 0.99574, 0.99575, 0.99576, 0.99577, 0.99578, 0.9958,\n",
              "        0.99581, 0.99582, 0.99584, 0.99585, 0.99586, 0.99587, 0.99588,\n",
              "        0.99589, 0.9959, 0.99592, 0.99593, 0.99594, 0.99596, 0.99598,\n",
              "        0.99599, 0.996, 0.99603, 0.99604, 0.99605, 0.99606, 0.99608,\n",
              "        0.99609, 0.9961, 0.99612, 0.99613, 0.99614, 0.99615, 0.99616,\n",
              "        0.99617, 0.99619, 0.9962, 0.99621, 0.99622, 0.99623, 0.99624,\n",
              "        0.99625, 0.99627, 0.99628, 0.99629, 0.9963, 0.99631, 0.99632,\n",
              "        0.99633, 0.99634, 0.99635, 0.99636, 0.99638, 0.99639, 0.9964,\n",
              "        0.99641, 0.99642, 0.99643, 0.99645, 0.99646, 0.99647, 0.99648,\n",
              "        0.99649, 0.9965, 0.99651, 0.99652, 0.99654, 0.99655, 0.99656,\n",
              "        0.99658, 0.99659, 0.9966, 0.99661, 0.99664, 0.99665, 0.99666,\n",
              "        0.99667, 0.99668, 0.99669, 0.9967, 0.99672, 0.99674, 0.99675,\n",
              "        0.99676, 0.99677, 0.99678, 0.9968, 0.99682, 0.99683, 0.99684,\n",
              "        0.99685, 0.99686, 0.99688, 0.99689, 0.9969, 0.99692, 0.99693,\n",
              "        0.99694, 0.99695, 0.99697, 0.99698, 0.99699, 0.997, 0.99701,\n",
              "        0.99702, 0.99704, 0.99705, 0.99706, 0.99708, 0.99709, 0.9971,\n",
              "        0.99712, 0.99713, 0.99714, 0.99716, 0.99717, 0.99718, 0.99719,\n",
              "        0.9972, 0.99721, 0.99722, 0.99724, 0.99725, 0.99726, 0.99727,\n",
              "        0.99728, 0.99729, 0.9973, 0.99732, 0.99733, 0.99734, 0.99735,\n",
              "        0.99736, 0.99738, 0.99739, 0.9974, 0.99743, 0.99744, 0.99745,\n",
              "        0.99746, 0.99747, 0.99748, 0.9975, 0.99752, 0.99754, 0.99756,\n",
              "        0.99758, 0.9976, 0.99761, 0.99764, 0.99765, 0.99768, 0.99769,\n",
              "        0.9977, 0.99772, 0.99774, 0.99779, 0.9978, 0.99782, 0.99783,\n",
              "        0.99784, 0.99785, 0.99786, 0.99787, 0.99788, 0.9979, 0.99791,\n",
              "        0.99796, 0.99798, 0.998, 0.99801, 0.99803, 0.99808, 0.9981,\n",
              "        0.99814, 0.99815, 0.99817, 0.99818, 0.9982, 0.99822, 0.99823,\n",
              "        0.99824, 0.99828, 0.9983, 0.99832, 0.99834, 0.99836, 0.9984,\n",
              "        0.99842, 0.99845, 0.9985, 0.99852, 0.99854, 0.99855, 0.99859,\n",
              "        0.9986, 0.99864, 0.99865, 0.9987, 0.99878, 0.9988, 0.99888, 0.9989,\n",
              "        0.99892, 0.999, 0.99901, 0.9991, 0.99914, 0.99915, 0.99918, 0.9992,\n",
              "        0.99922, 0.99925, 0.9993, 0.99935, 0.99938, 0.99939, 0.9994,\n",
              "        0.9995, 0.9996, 0.99965, 0.9997, 0.99974, 0.99975, 0.99976, 0.9998,\n",
              "        0.9999, 1.0, 1.00005, 1.0001, 1.00012, 1.00015, 1.0002, 1.00024,\n",
              "        1.00025, 1.0003, 1.0004, 1.0006, 1.0008, 1.001, 1.0014, 1.0015,\n",
              "        1.0018, 1.0021, 1.0022, 1.00242, 1.0026, 1.00289, 1.00315, 1.0032,\n",
              "        1.00369], dtype=object),\n",
              " 8: array([2.74, 2.86, 2.87, 2.88, 2.89, 2.9, 2.92, 2.93, 2.94, 2.95, 2.98,\n",
              "        2.99, 3.0, 3.01, 3.02, 3.03, 3.04, 3.05, 3.06, 3.07, 3.08, 3.09,\n",
              "        3.1, 3.11, 3.12, 3.13, 3.14, 3.15, 3.16, 3.17, 3.18, 3.19, 3.2,\n",
              "        3.21, 3.22, 3.23, 3.24, 3.25, 3.26, 3.27, 3.28, 3.29, 3.3, 3.31,\n",
              "        3.32, 3.33, 3.34, 3.35, 3.36, 3.37, 3.38, 3.39, 3.4, 3.41, 3.42,\n",
              "        3.43, 3.44, 3.45, 3.46, 3.47, 3.48, 3.49, 3.5, 3.51, 3.52, 3.53,\n",
              "        3.54, 3.55, 3.56, 3.57, 3.58, 3.59, 3.6, 3.61, 3.62, 3.63, 3.66,\n",
              "        3.67, 3.68, 3.69, 3.7, 3.71, 3.72, 3.74, 3.75, 3.78, 3.85, 3.9,\n",
              "        4.01], dtype=object),\n",
              " 9: array([0.33, 0.37, 0.39, 0.4, 0.42, 0.43, 0.44, 0.45, 0.46, 0.47, 0.48,\n",
              "        0.49, 0.5, 0.51, 0.52, 0.53, 0.54, 0.55, 0.56, 0.57, 0.58, 0.59,\n",
              "        0.6, 0.61, 0.62, 0.63, 0.64, 0.65, 0.66, 0.67, 0.68, 0.69, 0.7,\n",
              "        0.71, 0.72, 0.73, 0.74, 0.75, 0.76, 0.77, 0.78, 0.79, 0.8, 0.81,\n",
              "        0.82, 0.83, 0.84, 0.85, 0.86, 0.87, 0.88, 0.89, 0.9, 0.91, 0.92,\n",
              "        0.93, 0.94, 0.95, 0.96, 0.97, 0.98, 0.99, 1.0, 1.01, 1.02, 1.03,\n",
              "        1.04, 1.05, 1.06, 1.07, 1.08, 1.09, 1.1, 1.11, 1.12, 1.13, 1.14,\n",
              "        1.15, 1.16, 1.17, 1.18, 1.2, 1.22, 1.26, 1.28, 1.31, 1.33, 1.34,\n",
              "        1.36, 1.56, 1.59, 1.61, 1.62, 1.95, 1.98, 2.0], dtype=object),\n",
              " 10: array([8.4, 8.5, 8.7, 8.8, 9.0, 9.05, 9.1, 9.2, 9.23333333333333, 9.25,\n",
              "        9.3, 9.4, 9.5, 9.55, 9.56666666666667, 9.6, 9.7, 9.8, 9.9, 9.95,\n",
              "        10.0, 10.0333333333333, 10.1, 10.2, 10.3, 10.4, 10.5, 10.55, 10.6,\n",
              "        10.7, 10.75, 10.8, 10.9, 11.0, 11.066666666666698, 11.1, 11.2,\n",
              "        11.3, 11.4, 11.5, 11.6, 11.7, 11.8, 11.9, 11.95, 12.0, 12.1, 12.2,\n",
              "        12.3, 12.4, 12.5, 12.6, 12.7, 12.8, 12.9, 13.0, 13.1, 13.2, 13.3,\n",
              "        13.4, 13.5, 13.566666666666698, 13.6, 14.0, 14.9], dtype=object)}"
            ]
          },
          "metadata": {
            "tags": []
          },
          "execution_count": 290
        }
      ]
    },
    {
      "cell_type": "markdown",
      "metadata": {
        "id": "HIu45SRZ3ehh",
        "colab_type": "text"
      },
      "source": [
        "####Find the Best Attribute to Split and its split value"
      ]
    },
    {
      "cell_type": "code",
      "metadata": {
        "id": "kFP8T5nIAZdj",
        "colab_type": "code",
        "colab": {}
      },
      "source": [
        "def theBestAttributeToSplit(spliteddf, possibleSplitsCol):\n",
        "\n",
        "    #the number of feature\n",
        "     #numberOfAttribute = len(spliteddf[0]) - 1\n",
        "    baseEntropy = calcEntropy(spliteddf)  # Original entropy\n",
        "    bestInfomationGain = 0.0\n",
        "    theBestFeature = -1\n",
        "    thesplitValue = 0.0\n",
        "    newEntropy = 0.0\n",
        "    infomationGain = baseEntropy - newEntropy\n",
        "    '''\n",
        "    The difference between the original entropy \n",
        "    and the entropy classified according to features \n",
        "    is the information gain divided according to this feature\n",
        "    '''\n",
        " \n",
        "    for columnsNum in possibleSplitsCol:\n",
        "    \n",
        "            for val in possibleSplitsCol[columnsNum]:\n",
        "      \n",
        "                \n",
        "                # A dataset classified according to a feature\n",
        "                probabilities = len(data_T) + len(data_F)/ float(len(spliteddf))\n",
        "                newEntropy += probabilities*calcOverallEntropy(data_T, data_F)  \n",
        "                # Conditional empirical entropy after classification according to characteristics\n",
        "\n",
        "    if infomationGain > bestInfomationGain:\n",
        "         # If the entropy value decreases to the maximum after dividing by a feature, \n",
        "         #then the secondary feature is the optimal classification feature\n",
        "        bestInfomationGain = infomationGain\n",
        "        theBestFeature = i\n",
        "        thesplitValue = val\n",
        "        #Returns the index of the best feature and its split value\n",
        "    return theBestFeature, thesplitValue \n"
      ],
      "execution_count": 0,
      "outputs": []
    },
    {
      "cell_type": "code",
      "metadata": {
        "id": "CgI7H0IawrH1",
        "colab_type": "code",
        "outputId": "ff49eb4b-6250-49f6-a101-47499614bad5",
        "colab": {
          "base_uri": "https://localhost:8080/",
          "height": 35
        }
      },
      "source": [
        "#let's check this function, get the best feature\n",
        "possibleSplitsCol = possibleSplits(df.values)\n",
        "theBestFeature, thesplitValue = theBestAttributeToSplit(df.values, possibleSplitsCol)\n",
        "theBestFeature, thesplitValue\n",
        "\n"
      ],
      "execution_count": 292,
      "outputs": [
        {
          "output_type": "execute_result",
          "data": {
            "text/plain": [
              "(6, 14.9)"
            ]
          },
          "metadata": {
            "tags": []
          },
          "execution_count": 292
        }
      ]
    },
    {
      "cell_type": "markdown",
      "metadata": {
        "id": "74plPcxtgxBq",
        "colab_type": "text"
      },
      "source": [
        "####ID3 Decision Tree Algorithm"
      ]
    },
    {
      "cell_type": "code",
      "metadata": {
        "id": "db_ka8osWvpX",
        "colab_type": "code",
        "colab": {}
      },
      "source": [
        "def decisionTree(spliteddf, countDepth=0, minCells=2, maxDepth=5):\n",
        "    # first check it is a 2D array or a 3D array\n",
        "    #dataframe.values is a 2 D array,  dataframe is 3D\n",
        "    if countDepth== 0:\n",
        "        global COLUMNSINDEX\n",
        "        COLUMNSINDEX = spliteddf.columns\n",
        "        data=spliteddf.values\n",
        "    else:\n",
        "        data=spliteddf\n",
        "\n",
        "    '''\n",
        "      If all instances in the data set belong to the same class, \n",
        "      it is a single-node tree and the class is used as a class tag for that node\n",
        "      If the feature set is an empty set, it is a single-node tree, \n",
        "      and the class with the largest number of instances in the dataset \n",
        "      is taken as the class tag of the node\n",
        "    '''\n",
        "      #checking the purity and classify if necessary\n",
        "    if (checkThePurity(data)) or (len(data) < minCells) or (countDepth == maxDepth):\n",
        "        \n",
        "        classifiedResult = classifyDS(data)\n",
        "        return classifiedResult\n",
        "    \n",
        "    else:\n",
        "        countDepth += 1\n",
        "        \n",
        "        #calling the helper functions\n",
        "        thepossibleSplits = possibleSplits(data)\n",
        "\n",
        "        theBestFeature, splitValue = theBestAttributeToSplit(data, thepossibleSplits)\n",
        "\n",
        "        data_T, data_F = splitData(data, theBestFeature, splitValue)\n",
        "  \n",
        "        \n",
        "        nameOfTheBestFeature = COLUMNSINDEX[theBestFeature]\n",
        "        if (len(data_T) == 0) or (len(data_F) == 0):\n",
        "        \n",
        "            classifiedResult = classifyDS(data)\n",
        "            return classifiedResult\n",
        "        #now let's build the tree\n",
        "\n",
        "        Q = \"{} <= {}\".format(nameOfTheBestFeature, splitValue)\n",
        "        subTree = {Q: []}\n",
        "        #find whether true or false to split the tree\n",
        "        ture = decisionTree(data_T, countDepth, minCells, maxDepth)\n",
        "        false = decisionTree(data_F, countDepth, minCells, maxDepth)\n",
        "        #if the answer is same then only have one unique value,\n",
        "        #in this case true is the answer\n",
        "        #otherwise, it will do the splitting and keeping answer\n",
        "        \n",
        "        if ture == false:\n",
        "            subTree = ture\n",
        "        else:\n",
        "            subTree[Q].append(ture)\n",
        "            subTree[Q].append(false)\n",
        "        #finally, return the tree\n",
        "        return subTree\n",
        "    \n",
        "    "
      ],
      "execution_count": 0,
      "outputs": []
    },
    {
      "cell_type": "markdown",
      "metadata": {
        "id": "Xau2BZ6s0OQX",
        "colab_type": "text"
      },
      "source": [
        "##Evaluation"
      ]
    },
    {
      "cell_type": "markdown",
      "metadata": {
        "id": "M7fPDGsdN1bF",
        "colab_type": "text"
      },
      "source": [
        "###Test the Model"
      ]
    },
    {
      "cell_type": "code",
      "metadata": {
        "id": "ZPNQ8RUafSP8",
        "colab_type": "code",
        "outputId": "a7d4e2eb-5711-4b6f-a5c5-203fd94fe239",
        "colab": {
          "base_uri": "https://localhost:8080/",
          "height": 204
        }
      },
      "source": [
        "\n",
        "# we define a new dataframe with the defined data called testdf\n",
        "# this dataframe have the row [from 980 to 1010] of df\n",
        "testdf = df[980:1010]\n",
        "testdf.head()\n"
      ],
      "execution_count": 294,
      "outputs": [
        {
          "output_type": "execute_result",
          "data": {
            "text/html": [
              "<div>\n",
              "<style scoped>\n",
              "    .dataframe tbody tr th:only-of-type {\n",
              "        vertical-align: middle;\n",
              "    }\n",
              "\n",
              "    .dataframe tbody tr th {\n",
              "        vertical-align: top;\n",
              "    }\n",
              "\n",
              "    .dataframe thead th {\n",
              "        text-align: right;\n",
              "    }\n",
              "</style>\n",
              "<table border=\"1\" class=\"dataframe\">\n",
              "  <thead>\n",
              "    <tr style=\"text-align: right;\">\n",
              "      <th></th>\n",
              "      <th>fixed acidity</th>\n",
              "      <th>volatile acidity</th>\n",
              "      <th>citric acid</th>\n",
              "      <th>residual sugar</th>\n",
              "      <th>chlorides</th>\n",
              "      <th>free sulfur dioxide</th>\n",
              "      <th>total sulfur dioxide</th>\n",
              "      <th>density</th>\n",
              "      <th>pH</th>\n",
              "      <th>sulphates</th>\n",
              "      <th>alcohol</th>\n",
              "      <th>splitQuality</th>\n",
              "    </tr>\n",
              "  </thead>\n",
              "  <tbody>\n",
              "    <tr>\n",
              "      <th>980</th>\n",
              "      <td>9.1</td>\n",
              "      <td>0.50</td>\n",
              "      <td>0.30</td>\n",
              "      <td>1.9</td>\n",
              "      <td>0.065</td>\n",
              "      <td>8.0</td>\n",
              "      <td>17.0</td>\n",
              "      <td>0.99774</td>\n",
              "      <td>3.32</td>\n",
              "      <td>0.71</td>\n",
              "      <td>10.5</td>\n",
              "      <td>Bad</td>\n",
              "    </tr>\n",
              "    <tr>\n",
              "      <th>981</th>\n",
              "      <td>9.5</td>\n",
              "      <td>0.86</td>\n",
              "      <td>0.26</td>\n",
              "      <td>1.9</td>\n",
              "      <td>0.079</td>\n",
              "      <td>13.0</td>\n",
              "      <td>28.0</td>\n",
              "      <td>0.99712</td>\n",
              "      <td>3.25</td>\n",
              "      <td>0.62</td>\n",
              "      <td>10.0</td>\n",
              "      <td>Bad</td>\n",
              "    </tr>\n",
              "    <tr>\n",
              "      <th>982</th>\n",
              "      <td>7.3</td>\n",
              "      <td>0.52</td>\n",
              "      <td>0.32</td>\n",
              "      <td>2.1</td>\n",
              "      <td>0.070</td>\n",
              "      <td>51.0</td>\n",
              "      <td>70.0</td>\n",
              "      <td>0.99418</td>\n",
              "      <td>3.34</td>\n",
              "      <td>0.82</td>\n",
              "      <td>12.9</td>\n",
              "      <td>Bad</td>\n",
              "    </tr>\n",
              "    <tr>\n",
              "      <th>983</th>\n",
              "      <td>9.1</td>\n",
              "      <td>0.50</td>\n",
              "      <td>0.30</td>\n",
              "      <td>1.9</td>\n",
              "      <td>0.065</td>\n",
              "      <td>8.0</td>\n",
              "      <td>17.0</td>\n",
              "      <td>0.99774</td>\n",
              "      <td>3.32</td>\n",
              "      <td>0.71</td>\n",
              "      <td>10.5</td>\n",
              "      <td>Bad</td>\n",
              "    </tr>\n",
              "    <tr>\n",
              "      <th>984</th>\n",
              "      <td>12.2</td>\n",
              "      <td>0.45</td>\n",
              "      <td>0.49</td>\n",
              "      <td>1.4</td>\n",
              "      <td>0.075</td>\n",
              "      <td>3.0</td>\n",
              "      <td>6.0</td>\n",
              "      <td>0.99690</td>\n",
              "      <td>3.13</td>\n",
              "      <td>0.63</td>\n",
              "      <td>10.4</td>\n",
              "      <td>Bad</td>\n",
              "    </tr>\n",
              "  </tbody>\n",
              "</table>\n",
              "</div>"
            ],
            "text/plain": [
              "     fixed acidity  volatile acidity  ...  alcohol  splitQuality\n",
              "980            9.1              0.50  ...     10.5           Bad\n",
              "981            9.5              0.86  ...     10.0           Bad\n",
              "982            7.3              0.52  ...     12.9           Bad\n",
              "983            9.1              0.50  ...     10.5           Bad\n",
              "984           12.2              0.45  ...     10.4           Bad\n",
              "\n",
              "[5 rows x 12 columns]"
            ]
          },
          "metadata": {
            "tags": []
          },
          "execution_count": 294
        }
      ]
    },
    {
      "cell_type": "code",
      "metadata": {
        "id": "1WKfXDHcLEMJ",
        "colab_type": "code",
        "outputId": "e596bf79-7537-4233-8bad-a3dfbf2e5156",
        "colab": {
          "base_uri": "https://localhost:8080/",
          "height": 35
        }
      },
      "source": [
        "tree = decisionTree(testdf, maxDepth=50)\n",
        "pprint(tree)"
      ],
      "execution_count": 295,
      "outputs": [
        {
          "output_type": "stream",
          "text": [
            "{'total sulfur dioxide <= 12.9': ['Good', 'Bad']}\n"
          ],
          "name": "stdout"
        }
      ]
    },
    {
      "cell_type": "markdown",
      "metadata": {
        "id": "TY_5Y0kT0OSc",
        "colab_type": "text"
      },
      "source": [
        "This output means the best feature we split first is 'total sulfur dioxide', and we split it with value 12.9 and the dataset will splitted into two part, one part only have good quality, and the other one only have bad quality. "
      ]
    },
    {
      "cell_type": "markdown",
      "metadata": {
        "id": "8wvKHzUz3iFa",
        "colab_type": "text"
      },
      "source": [
        "The output only shows one split, which might not be the currect answer. We set a high enough recursion depth so it should split out more features.\n",
        "\n",
        "However, we solved a RuntimeError, 'RuntimeError: maximum recursion depth exceeded while calling a Python object'. We didn't check the 'stop futher splitting' conditions in the building of the tree, and it coused my program has been entrying recursive function invocation for too many times. So we added the classifition method to avoid it. When there are less than 2 samples, or the counter reaches the maximum depth, or one side of the splited data have a same label ('Good' or 'Bad'), the classification function will be triggered. \n",
        "\n",
        "So this means one of the conditions achieved to stop split in the second splitting. Let's check the splited data with function 'splitData' "
      ]
    },
    {
      "cell_type": "code",
      "metadata": {
        "id": "d-x9RlnZU_ZH",
        "colab_type": "code",
        "outputId": "1af8e9fe-a1d9-48e1-faae-21ddf3fcf8e7",
        "colab": {
          "base_uri": "https://localhost:8080/",
          "height": 204
        }
      },
      "source": [
        "#let have a test,\n",
        "#the best feature is 'total sulfur dioxide', which is 6 in the index array\n",
        "#valueToSplit = 12.9 and shows all value only above or below 12.9\n",
        "#we let the second column only showing 'High' or 'low' if input High\n",
        "\n",
        "columnToSplit = 6\n",
        "valueToSplit = 12.9\n",
        "data_T, data_F = splitData(testdf.values, columnToSplit, valueToSplit)\n",
        "\n",
        "#show the output,\n",
        "#wecan see that it shows all value above 2/ the secong column only have 'High' \n",
        "#and other columns showing corresponding result\n",
        "\n",
        "col1valueHigh = pd.DataFrame(data_F, columns=df.columns)\n",
        "\n",
        "col1valueHigh.head()"
      ],
      "execution_count": 296,
      "outputs": [
        {
          "output_type": "execute_result",
          "data": {
            "text/html": [
              "<div>\n",
              "<style scoped>\n",
              "    .dataframe tbody tr th:only-of-type {\n",
              "        vertical-align: middle;\n",
              "    }\n",
              "\n",
              "    .dataframe tbody tr th {\n",
              "        vertical-align: top;\n",
              "    }\n",
              "\n",
              "    .dataframe thead th {\n",
              "        text-align: right;\n",
              "    }\n",
              "</style>\n",
              "<table border=\"1\" class=\"dataframe\">\n",
              "  <thead>\n",
              "    <tr style=\"text-align: right;\">\n",
              "      <th></th>\n",
              "      <th>fixed acidity</th>\n",
              "      <th>volatile acidity</th>\n",
              "      <th>citric acid</th>\n",
              "      <th>residual sugar</th>\n",
              "      <th>chlorides</th>\n",
              "      <th>free sulfur dioxide</th>\n",
              "      <th>total sulfur dioxide</th>\n",
              "      <th>density</th>\n",
              "      <th>pH</th>\n",
              "      <th>sulphates</th>\n",
              "      <th>alcohol</th>\n",
              "      <th>splitQuality</th>\n",
              "    </tr>\n",
              "  </thead>\n",
              "  <tbody>\n",
              "    <tr>\n",
              "      <th>0</th>\n",
              "      <td>9.1</td>\n",
              "      <td>0.5</td>\n",
              "      <td>0.3</td>\n",
              "      <td>1.9</td>\n",
              "      <td>0.065</td>\n",
              "      <td>8</td>\n",
              "      <td>17</td>\n",
              "      <td>0.99774</td>\n",
              "      <td>3.32</td>\n",
              "      <td>0.71</td>\n",
              "      <td>10.5</td>\n",
              "      <td>Bad</td>\n",
              "    </tr>\n",
              "    <tr>\n",
              "      <th>1</th>\n",
              "      <td>9.5</td>\n",
              "      <td>0.86</td>\n",
              "      <td>0.26</td>\n",
              "      <td>1.9</td>\n",
              "      <td>0.079</td>\n",
              "      <td>13</td>\n",
              "      <td>28</td>\n",
              "      <td>0.99712</td>\n",
              "      <td>3.25</td>\n",
              "      <td>0.62</td>\n",
              "      <td>10</td>\n",
              "      <td>Bad</td>\n",
              "    </tr>\n",
              "    <tr>\n",
              "      <th>2</th>\n",
              "      <td>7.3</td>\n",
              "      <td>0.52</td>\n",
              "      <td>0.32</td>\n",
              "      <td>2.1</td>\n",
              "      <td>0.07</td>\n",
              "      <td>51</td>\n",
              "      <td>70</td>\n",
              "      <td>0.99418</td>\n",
              "      <td>3.34</td>\n",
              "      <td>0.82</td>\n",
              "      <td>12.9</td>\n",
              "      <td>Bad</td>\n",
              "    </tr>\n",
              "    <tr>\n",
              "      <th>3</th>\n",
              "      <td>9.1</td>\n",
              "      <td>0.5</td>\n",
              "      <td>0.3</td>\n",
              "      <td>1.9</td>\n",
              "      <td>0.065</td>\n",
              "      <td>8</td>\n",
              "      <td>17</td>\n",
              "      <td>0.99774</td>\n",
              "      <td>3.32</td>\n",
              "      <td>0.71</td>\n",
              "      <td>10.5</td>\n",
              "      <td>Bad</td>\n",
              "    </tr>\n",
              "    <tr>\n",
              "      <th>4</th>\n",
              "      <td>7.1</td>\n",
              "      <td>0.36</td>\n",
              "      <td>0.3</td>\n",
              "      <td>1.6</td>\n",
              "      <td>0.08</td>\n",
              "      <td>35</td>\n",
              "      <td>70</td>\n",
              "      <td>0.99693</td>\n",
              "      <td>3.44</td>\n",
              "      <td>0.5</td>\n",
              "      <td>9.4</td>\n",
              "      <td>Bad</td>\n",
              "    </tr>\n",
              "  </tbody>\n",
              "</table>\n",
              "</div>"
            ],
            "text/plain": [
              "  fixed acidity volatile acidity citric acid  ... sulphates alcohol splitQuality\n",
              "0           9.1              0.5         0.3  ...      0.71    10.5          Bad\n",
              "1           9.5             0.86        0.26  ...      0.62      10          Bad\n",
              "2           7.3             0.52        0.32  ...      0.82    12.9          Bad\n",
              "3           9.1              0.5         0.3  ...      0.71    10.5          Bad\n",
              "4           7.1             0.36         0.3  ...       0.5     9.4          Bad\n",
              "\n",
              "[5 rows x 12 columns]"
            ]
          },
          "metadata": {
            "tags": []
          },
          "execution_count": 296
        }
      ]
    },
    {
      "cell_type": "markdown",
      "metadata": {
        "id": "jybG3nVB0OOI",
        "colab_type": "text"
      },
      "source": [
        "So the condition (len(data_F) == 0) is achieved, snd it stopped splitting.\n",
        "\n",
        "Here we need to improve the 'stop further splitting' conditions in order to make a better decision tree."
      ]
    },
    {
      "cell_type": "markdown",
      "metadata": {
        "id": "SQ5RV6AZJ0f3",
        "colab_type": "text"
      },
      "source": [
        "###Further Testing with library 'sklearn'"
      ]
    },
    {
      "cell_type": "markdown",
      "metadata": {
        "id": "8A6RpdlkStwf",
        "colab_type": "text"
      },
      "source": [
        "Now we are going to do one more step to check the output with the Python machine learning library scikt_learn. Using this library with import graphviz, we can get a visualizable output."
      ]
    },
    {
      "cell_type": "code",
      "metadata": {
        "id": "ORLA4BfzJyvJ",
        "colab_type": "code",
        "colab": {}
      },
      "source": [
        "from sklearn import tree\n",
        "import graphviz\n",
        "from sklearn.model_selection import train_test_split"
      ],
      "execution_count": 0,
      "outputs": []
    },
    {
      "cell_type": "code",
      "metadata": {
        "id": "86bB-fixJzAv",
        "colab_type": "code",
        "colab": {}
      },
      "source": [
        "'''\n",
        "first, we set x as the dataframe without the quality column\n",
        "then y as the contain of the columns quality\n",
        "'''\n",
        "x = testdf.drop('splitQuality', axis = 1)\n",
        "y=testdf['splitQuality']\n"
      ],
      "execution_count": 0,
      "outputs": []
    },
    {
      "cell_type": "code",
      "metadata": {
        "id": "M40oiN9UJzM-",
        "colab_type": "code",
        "colab": {}
      },
      "source": [
        "'''\n",
        "then we are choosing 90% of the data randomly\n",
        "and set the random_state as 50\n",
        "'''\n",
        "xTraining, xTesting, yTraining, yTesting = train_test_split(x, y, test_size=0.90, random_state=50)"
      ],
      "execution_count": 0,
      "outputs": []
    },
    {
      "cell_type": "code",
      "metadata": {
        "id": "lm5e-9nDPNqn",
        "colab_type": "code",
        "outputId": "fcfe1f7a-a126-4bc8-cd19-592918289db4",
        "colab": {
          "base_uri": "https://localhost:8080/",
          "height": 240
        }
      },
      "source": [
        "'''\n",
        "wo make the depth of the spliting as 2\n",
        "and input the random traing data\n",
        "\n",
        "'''\n",
        "\n",
        "classfierDecisionTree=tree.DecisionTreeClassifier(criterion='entropy', max_depth=2)\n",
        "classfierDecisionTree=classfierDecisionTree.fit(xTraining,yTraining)\n",
        "\n",
        "\n",
        "'''\n",
        "Now\n",
        "The graphviz module is introduced to export the graph, \n",
        "and the resulting graph is shown below\n",
        "'''\n",
        "dot_data=tree.export_graphviz(classfierDecisionTree, out_file=None,\n",
        "                feature_names=list(x.columns.values),\n",
        "                filled=True,rounded=True,\n",
        "                special_characters=True)\n",
        "                              \n",
        "\n",
        "graphOfTree=graphviz.Source(dot_data)\n",
        "graphOfTree"
      ],
      "execution_count": 300,
      "outputs": [
        {
          "output_type": "execute_result",
          "data": {
            "text/plain": [
              "<graphviz.files.Source at 0x7ff627cf8828>"
            ],
            "image/svg+xml": "<?xml version=\"1.0\" encoding=\"UTF-8\" standalone=\"no\"?>\n<!DOCTYPE svg PUBLIC \"-//W3C//DTD SVG 1.1//EN\"\n \"http://www.w3.org/Graphics/SVG/1.1/DTD/svg11.dtd\">\n<!-- Generated by graphviz version 2.40.1 (20161225.0304)\n -->\n<!-- Title: Tree Pages: 1 -->\n<svg width=\"228pt\" height=\"165pt\"\n viewBox=\"0.00 0.00 228.00 165.00\" xmlns=\"http://www.w3.org/2000/svg\" xmlns:xlink=\"http://www.w3.org/1999/xlink\">\n<g id=\"graph0\" class=\"graph\" transform=\"scale(1 1) rotate(0) translate(4 161)\">\n<title>Tree</title>\n<polygon fill=\"#ffffff\" stroke=\"transparent\" points=\"-4,4 -4,-161 224,-161 224,4 -4,4\"/>\n<!-- 0 -->\n<g id=\"node1\" class=\"node\">\n<title>0</title>\n<path fill=\"#f2c09c\" stroke=\"#000000\" d=\"M172.5,-157C172.5,-157 46.5,-157 46.5,-157 40.5,-157 34.5,-151 34.5,-145 34.5,-145 34.5,-101 34.5,-101 34.5,-95 40.5,-89 46.5,-89 46.5,-89 172.5,-89 172.5,-89 178.5,-89 184.5,-95 184.5,-101 184.5,-101 184.5,-145 184.5,-145 184.5,-151 178.5,-157 172.5,-157\"/>\n<text text-anchor=\"start\" x=\"42.5\" y=\"-141.8\" font-family=\"Helvetica,sans-Serif\" font-size=\"14.00\" fill=\"#000000\">volatile acidity ≤ 0.58</text>\n<text text-anchor=\"start\" x=\"58.5\" y=\"-126.8\" font-family=\"Helvetica,sans-Serif\" font-size=\"14.00\" fill=\"#000000\">entropy = 0.918</text>\n<text text-anchor=\"start\" x=\"70\" y=\"-111.8\" font-family=\"Helvetica,sans-Serif\" font-size=\"14.00\" fill=\"#000000\">samples = 3</text>\n<text text-anchor=\"start\" x=\"68\" y=\"-96.8\" font-family=\"Helvetica,sans-Serif\" font-size=\"14.00\" fill=\"#000000\">value = [2, 1]</text>\n</g>\n<!-- 1 -->\n<g id=\"node2\" class=\"node\">\n<title>1</title>\n<path fill=\"#e58139\" stroke=\"#000000\" d=\"M89,-53C89,-53 12,-53 12,-53 6,-53 0,-47 0,-41 0,-41 0,-12 0,-12 0,-6 6,0 12,0 12,0 89,0 89,0 95,0 101,-6 101,-12 101,-12 101,-41 101,-41 101,-47 95,-53 89,-53\"/>\n<text text-anchor=\"start\" x=\"8\" y=\"-37.8\" font-family=\"Helvetica,sans-Serif\" font-size=\"14.00\" fill=\"#000000\">entropy = 0.0</text>\n<text text-anchor=\"start\" x=\"11\" y=\"-22.8\" font-family=\"Helvetica,sans-Serif\" font-size=\"14.00\" fill=\"#000000\">samples = 2</text>\n<text text-anchor=\"start\" x=\"9\" y=\"-7.8\" font-family=\"Helvetica,sans-Serif\" font-size=\"14.00\" fill=\"#000000\">value = [2, 0]</text>\n</g>\n<!-- 0&#45;&gt;1 -->\n<g id=\"edge1\" class=\"edge\">\n<title>0&#45;&gt;1</title>\n<path fill=\"none\" stroke=\"#000000\" d=\"M88.6988,-88.9777C83.3242,-80.187 77.5265,-70.7044 72.1115,-61.8477\"/>\n<polygon fill=\"#000000\" stroke=\"#000000\" points=\"75.0564,-59.9545 66.854,-53.2485 69.0842,-63.6059 75.0564,-59.9545\"/>\n<text text-anchor=\"middle\" x=\"60.9931\" y=\"-73.8518\" font-family=\"Helvetica,sans-Serif\" font-size=\"14.00\" fill=\"#000000\">True</text>\n</g>\n<!-- 2 -->\n<g id=\"node3\" class=\"node\">\n<title>2</title>\n<path fill=\"#399de5\" stroke=\"#000000\" d=\"M208,-53C208,-53 131,-53 131,-53 125,-53 119,-47 119,-41 119,-41 119,-12 119,-12 119,-6 125,0 131,0 131,0 208,0 208,0 214,0 220,-6 220,-12 220,-12 220,-41 220,-41 220,-47 214,-53 208,-53\"/>\n<text text-anchor=\"start\" x=\"127\" y=\"-37.8\" font-family=\"Helvetica,sans-Serif\" font-size=\"14.00\" fill=\"#000000\">entropy = 0.0</text>\n<text text-anchor=\"start\" x=\"130\" y=\"-22.8\" font-family=\"Helvetica,sans-Serif\" font-size=\"14.00\" fill=\"#000000\">samples = 1</text>\n<text text-anchor=\"start\" x=\"128\" y=\"-7.8\" font-family=\"Helvetica,sans-Serif\" font-size=\"14.00\" fill=\"#000000\">value = [0, 1]</text>\n</g>\n<!-- 0&#45;&gt;2 -->\n<g id=\"edge2\" class=\"edge\">\n<title>0&#45;&gt;2</title>\n<path fill=\"none\" stroke=\"#000000\" d=\"M130.6538,-88.9777C136.1195,-80.187 142.0154,-70.7044 147.5222,-61.8477\"/>\n<polygon fill=\"#000000\" stroke=\"#000000\" points=\"150.5609,-63.5889 152.8688,-53.2485 144.6163,-59.8927 150.5609,-63.5889\"/>\n<text text-anchor=\"middle\" x=\"158.5471\" y=\"-73.8951\" font-family=\"Helvetica,sans-Serif\" font-size=\"14.00\" fill=\"#000000\">False</text>\n</g>\n</g>\n</svg>\n"
          },
          "metadata": {
            "tags": []
          },
          "execution_count": 300
        }
      ]
    },
    {
      "cell_type": "code",
      "metadata": {
        "id": "ZegVWXjXrJEE",
        "colab_type": "code",
        "outputId": "74c62c77-54a9-4efd-9d18-775a0f2122bf",
        "colab": {
          "base_uri": "https://localhost:8080/",
          "height": 35
        }
      },
      "source": [
        "'''\n",
        "We test the prediction accuracy of the decision tree\n",
        "for the tset data.\n",
        "'''\n",
        "accuracyFall = (classfierDecisionTree.predict(xTesting)==yTesting).value_counts()\n",
        "accuracy = (accuracyFall[1]/(accuracyFall[0]+accuracyFall[1]))*100\n",
        "print(accuracy,'%')"
      ],
      "execution_count": 301,
      "outputs": [
        {
          "output_type": "stream",
          "text": [
            "51.85185185185185 %\n"
          ],
          "name": "stdout"
        }
      ]
    },
    {
      "cell_type": "markdown",
      "metadata": {
        "id": "EZU1bWs3cksD",
        "colab_type": "text"
      },
      "source": [
        "###And then, wo are trying to check the decision tree and the accuracy of the whole dataframe."
      ]
    },
    {
      "cell_type": "code",
      "metadata": {
        "id": "Xhxcz6RKZ9DK",
        "colab_type": "code",
        "colab": {}
      },
      "source": [
        "'''\n",
        "first, we set x as the dataframe without the quality column\n",
        "then y as the contain of the columns quality\n",
        "'''\n",
        "x = df.drop('splitQuality', axis = 1)\n",
        "y=df['splitQuality']\n"
      ],
      "execution_count": 0,
      "outputs": []
    },
    {
      "cell_type": "code",
      "metadata": {
        "id": "husGCHfHZ3Mi",
        "colab_type": "code",
        "colab": {}
      },
      "source": [
        "'''\n",
        "then we are choosing 50% of the data randomly\n",
        "and set the random_state as 50\n",
        "'''\n",
        "xTraining, xTesting, yTraining, yTesting = train_test_split(x, y, test_size=0.80, random_state=50)"
      ],
      "execution_count": 0,
      "outputs": []
    },
    {
      "cell_type": "code",
      "metadata": {
        "id": "dlGOyIn_Z2_B",
        "colab_type": "code",
        "outputId": "b39a33f8-4812-42fd-e313-a2106f8e4c35",
        "colab": {
          "base_uri": "https://localhost:8080/",
          "height": 379
        }
      },
      "source": [
        "'''\n",
        "wo make the depth of the spliting as 2\n",
        "and input the random traing data\n",
        "\n",
        "'''\n",
        "\n",
        "classfierDecisionTree=tree.DecisionTreeClassifier(criterion='entropy', max_depth=2)\n",
        "classfierDecisionTree=classfierDecisionTree.fit(xTraining,yTraining)\n",
        "\n",
        "'''\n",
        "Now\n",
        "The graphviz module is introduced to export the graph, \n",
        "and the resulting graph is shown below\n",
        "'''\n",
        "dot_data=tree.export_graphviz(classfierDecisionTree, out_file=None,\n",
        "                feature_names=list(x.columns.values),\n",
        "                filled=True,rounded=True,\n",
        "                special_characters=True)\n",
        "                              \n",
        "\n",
        "graphOfTree=graphviz.Source(dot_data)\n",
        "graphOfTree"
      ],
      "execution_count": 304,
      "outputs": [
        {
          "output_type": "execute_result",
          "data": {
            "text/plain": [
              "<graphviz.files.Source at 0x7ff627a96fd0>"
            ],
            "image/svg+xml": "<?xml version=\"1.0\" encoding=\"UTF-8\" standalone=\"no\"?>\n<!DOCTYPE svg PUBLIC \"-//W3C//DTD SVG 1.1//EN\"\n \"http://www.w3.org/Graphics/SVG/1.1/DTD/svg11.dtd\">\n<!-- Generated by graphviz version 2.40.1 (20161225.0304)\n -->\n<!-- Title: Tree Pages: 1 -->\n<svg width=\"545pt\" height=\"269pt\"\n viewBox=\"0.00 0.00 545.00 269.00\" xmlns=\"http://www.w3.org/2000/svg\" xmlns:xlink=\"http://www.w3.org/1999/xlink\">\n<g id=\"graph0\" class=\"graph\" transform=\"scale(1 1) rotate(0) translate(4 265)\">\n<title>Tree</title>\n<polygon fill=\"#ffffff\" stroke=\"transparent\" points=\"-4,4 -4,-265 541,-265 541,4 -4,4\"/>\n<!-- 0 -->\n<g id=\"node1\" class=\"node\">\n<title>0</title>\n<path fill=\"#e99558\" stroke=\"#000000\" d=\"M318,-261C318,-261 218,-261 218,-261 212,-261 206,-255 206,-249 206,-249 206,-205 206,-205 206,-199 212,-193 218,-193 218,-193 318,-193 318,-193 324,-193 330,-199 330,-205 330,-205 330,-249 330,-249 330,-255 324,-261 318,-261\"/>\n<text text-anchor=\"start\" x=\"218.5\" y=\"-245.8\" font-family=\"Helvetica,sans-Serif\" font-size=\"14.00\" fill=\"#000000\">alcohol ≤ 11.25</text>\n<text text-anchor=\"start\" x=\"221\" y=\"-230.8\" font-family=\"Helvetica,sans-Serif\" font-size=\"14.00\" fill=\"#000000\">entropy = 0.57</text>\n<text text-anchor=\"start\" x=\"220\" y=\"-215.8\" font-family=\"Helvetica,sans-Serif\" font-size=\"14.00\" fill=\"#000000\">samples = 319</text>\n<text text-anchor=\"start\" x=\"214\" y=\"-200.8\" font-family=\"Helvetica,sans-Serif\" font-size=\"14.00\" fill=\"#000000\">value = [276, 43]</text>\n</g>\n<!-- 1 -->\n<g id=\"node2\" class=\"node\">\n<title>1</title>\n<path fill=\"#e68742\" stroke=\"#000000\" d=\"M256,-157C256,-157 122,-157 122,-157 116,-157 110,-151 110,-145 110,-145 110,-101 110,-101 110,-95 116,-89 122,-89 122,-89 256,-89 256,-89 262,-89 268,-95 268,-101 268,-101 268,-145 268,-145 268,-151 262,-157 256,-157\"/>\n<text text-anchor=\"start\" x=\"118\" y=\"-141.8\" font-family=\"Helvetica,sans-Serif\" font-size=\"14.00\" fill=\"#000000\">volatile acidity ≤ 0.315</text>\n<text text-anchor=\"start\" x=\"138\" y=\"-126.8\" font-family=\"Helvetica,sans-Serif\" font-size=\"14.00\" fill=\"#000000\">entropy = 0.264</text>\n<text text-anchor=\"start\" x=\"141\" y=\"-111.8\" font-family=\"Helvetica,sans-Serif\" font-size=\"14.00\" fill=\"#000000\">samples = 245</text>\n<text text-anchor=\"start\" x=\"135\" y=\"-96.8\" font-family=\"Helvetica,sans-Serif\" font-size=\"14.00\" fill=\"#000000\">value = [234, 11]</text>\n</g>\n<!-- 0&#45;&gt;1 -->\n<g id=\"edge1\" class=\"edge\">\n<title>0&#45;&gt;1</title>\n<path fill=\"none\" stroke=\"#000000\" d=\"M242.1324,-192.9465C235.3804,-184.0578 228.0226,-174.3716 220.9941,-165.1188\"/>\n<polygon fill=\"#000000\" stroke=\"#000000\" points=\"223.7617,-162.976 214.9257,-157.13 218.1875,-167.2102 223.7617,-162.976\"/>\n<text text-anchor=\"middle\" x=\"211.5418\" y=\"-178.1999\" font-family=\"Helvetica,sans-Serif\" font-size=\"14.00\" fill=\"#000000\">True</text>\n</g>\n<!-- 4 -->\n<g id=\"node5\" class=\"node\">\n<title>4</title>\n<path fill=\"#f9e1d0\" stroke=\"#000000\" d=\"M397.5,-157C397.5,-157 298.5,-157 298.5,-157 292.5,-157 286.5,-151 286.5,-145 286.5,-145 286.5,-101 286.5,-101 286.5,-95 292.5,-89 298.5,-89 298.5,-89 397.5,-89 397.5,-89 403.5,-89 409.5,-95 409.5,-101 409.5,-101 409.5,-145 409.5,-145 409.5,-151 403.5,-157 397.5,-157\"/>\n<text text-anchor=\"start\" x=\"294.5\" y=\"-141.8\" font-family=\"Helvetica,sans-Serif\" font-size=\"14.00\" fill=\"#000000\">sulphates ≤ 0.61</text>\n<text text-anchor=\"start\" x=\"297\" y=\"-126.8\" font-family=\"Helvetica,sans-Serif\" font-size=\"14.00\" fill=\"#000000\">entropy = 0.987</text>\n<text text-anchor=\"start\" x=\"304\" y=\"-111.8\" font-family=\"Helvetica,sans-Serif\" font-size=\"14.00\" fill=\"#000000\">samples = 74</text>\n<text text-anchor=\"start\" x=\"298\" y=\"-96.8\" font-family=\"Helvetica,sans-Serif\" font-size=\"14.00\" fill=\"#000000\">value = [42, 32]</text>\n</g>\n<!-- 0&#45;&gt;4 -->\n<g id=\"edge4\" class=\"edge\">\n<title>0&#45;&gt;4</title>\n<path fill=\"none\" stroke=\"#000000\" d=\"M294.195,-192.9465C301.0325,-184.0578 308.4834,-174.3716 315.601,-165.1188\"/>\n<polygon fill=\"#000000\" stroke=\"#000000\" points=\"318.4232,-167.1903 321.7462,-157.13 312.8748,-162.9223 318.4232,-167.1903\"/>\n<text text-anchor=\"middle\" x=\"324.9796\" y=\"-178.22\" font-family=\"Helvetica,sans-Serif\" font-size=\"14.00\" fill=\"#000000\">False</text>\n</g>\n<!-- 2 -->\n<g id=\"node3\" class=\"node\">\n<title>2</title>\n<path fill=\"#efb388\" stroke=\"#000000\" d=\"M106,-53C106,-53 12,-53 12,-53 6,-53 0,-47 0,-41 0,-41 0,-12 0,-12 0,-6 6,0 12,0 12,0 106,0 106,0 112,0 118,-6 118,-12 118,-12 118,-41 118,-41 118,-47 112,-53 106,-53\"/>\n<text text-anchor=\"start\" x=\"8\" y=\"-37.8\" font-family=\"Helvetica,sans-Serif\" font-size=\"14.00\" fill=\"#000000\">entropy = 0.863</text>\n<text text-anchor=\"start\" x=\"15\" y=\"-22.8\" font-family=\"Helvetica,sans-Serif\" font-size=\"14.00\" fill=\"#000000\">samples = 21</text>\n<text text-anchor=\"start\" x=\"13.5\" y=\"-7.8\" font-family=\"Helvetica,sans-Serif\" font-size=\"14.00\" fill=\"#000000\">value = [15, 6]</text>\n</g>\n<!-- 1&#45;&gt;2 -->\n<g id=\"edge2\" class=\"edge\">\n<title>1&#45;&gt;2</title>\n<path fill=\"none\" stroke=\"#000000\" d=\"M143.1669,-88.9777C130.2143,-79.3629 116.1465,-68.9203 103.2867,-59.3743\"/>\n<polygon fill=\"#000000\" stroke=\"#000000\" points=\"105.1499,-56.3986 95.0342,-53.2485 100.9776,-62.0193 105.1499,-56.3986\"/>\n</g>\n<!-- 3 -->\n<g id=\"node4\" class=\"node\">\n<title>3</title>\n<path fill=\"#e6843e\" stroke=\"#000000\" d=\"M242,-53C242,-53 148,-53 148,-53 142,-53 136,-47 136,-41 136,-41 136,-12 136,-12 136,-6 142,0 148,0 148,0 242,0 242,0 248,0 254,-6 254,-12 254,-12 254,-41 254,-41 254,-47 248,-53 242,-53\"/>\n<text text-anchor=\"start\" x=\"144\" y=\"-37.8\" font-family=\"Helvetica,sans-Serif\" font-size=\"14.00\" fill=\"#000000\">entropy = 0.154</text>\n<text text-anchor=\"start\" x=\"147\" y=\"-22.8\" font-family=\"Helvetica,sans-Serif\" font-size=\"14.00\" fill=\"#000000\">samples = 224</text>\n<text text-anchor=\"start\" x=\"145\" y=\"-7.8\" font-family=\"Helvetica,sans-Serif\" font-size=\"14.00\" fill=\"#000000\">value = [219, 5]</text>\n</g>\n<!-- 1&#45;&gt;3 -->\n<g id=\"edge3\" class=\"edge\">\n<title>1&#45;&gt;3</title>\n<path fill=\"none\" stroke=\"#000000\" d=\"M191.1154,-88.9777C191.6335,-80.6449 192.1902,-71.6903 192.7159,-63.2364\"/>\n<polygon fill=\"#000000\" stroke=\"#000000\" points=\"196.2095,-63.4464 193.3369,-53.2485 189.223,-63.012 196.2095,-63.4464\"/>\n</g>\n<!-- 5 -->\n<g id=\"node6\" class=\"node\">\n<title>5</title>\n<path fill=\"#e9965a\" stroke=\"#000000\" d=\"M389,-53C389,-53 295,-53 295,-53 289,-53 283,-47 283,-41 283,-41 283,-12 283,-12 283,-6 289,0 295,0 295,0 389,0 389,0 395,0 401,-6 401,-12 401,-12 401,-41 401,-41 401,-47 395,-53 389,-53\"/>\n<text text-anchor=\"start\" x=\"291\" y=\"-37.8\" font-family=\"Helvetica,sans-Serif\" font-size=\"14.00\" fill=\"#000000\">entropy = 0.592</text>\n<text text-anchor=\"start\" x=\"298\" y=\"-22.8\" font-family=\"Helvetica,sans-Serif\" font-size=\"14.00\" fill=\"#000000\">samples = 28</text>\n<text text-anchor=\"start\" x=\"296.5\" y=\"-7.8\" font-family=\"Helvetica,sans-Serif\" font-size=\"14.00\" fill=\"#000000\">value = [24, 4]</text>\n</g>\n<!-- 4&#45;&gt;5 -->\n<g id=\"edge5\" class=\"edge\">\n<title>4&#45;&gt;5</title>\n<path fill=\"none\" stroke=\"#000000\" d=\"M345.8846,-88.9777C345.3665,-80.6449 344.8098,-71.6903 344.2841,-63.2364\"/>\n<polygon fill=\"#000000\" stroke=\"#000000\" points=\"347.777,-63.012 343.6631,-53.2485 340.7905,-63.4464 347.777,-63.012\"/>\n</g>\n<!-- 6 -->\n<g id=\"node7\" class=\"node\">\n<title>6</title>\n<path fill=\"#b8dcf6\" stroke=\"#000000\" d=\"M525,-53C525,-53 431,-53 431,-53 425,-53 419,-47 419,-41 419,-41 419,-12 419,-12 419,-6 425,0 431,0 431,0 525,0 525,0 531,0 537,-6 537,-12 537,-12 537,-41 537,-41 537,-47 531,-53 525,-53\"/>\n<text text-anchor=\"start\" x=\"427\" y=\"-37.8\" font-family=\"Helvetica,sans-Serif\" font-size=\"14.00\" fill=\"#000000\">entropy = 0.966</text>\n<text text-anchor=\"start\" x=\"434\" y=\"-22.8\" font-family=\"Helvetica,sans-Serif\" font-size=\"14.00\" fill=\"#000000\">samples = 46</text>\n<text text-anchor=\"start\" x=\"428\" y=\"-7.8\" font-family=\"Helvetica,sans-Serif\" font-size=\"14.00\" fill=\"#000000\">value = [18, 28]</text>\n</g>\n<!-- 4&#45;&gt;6 -->\n<g id=\"edge6\" class=\"edge\">\n<title>4&#45;&gt;6</title>\n<path fill=\"none\" stroke=\"#000000\" d=\"M393.8331,-88.9777C406.7857,-79.3629 420.8535,-68.9203 433.7133,-59.3743\"/>\n<polygon fill=\"#000000\" stroke=\"#000000\" points=\"436.0224,-62.0193 441.9658,-53.2485 431.8501,-56.3986 436.0224,-62.0193\"/>\n</g>\n</g>\n</svg>\n"
          },
          "metadata": {
            "tags": []
          },
          "execution_count": 304
        }
      ]
    },
    {
      "cell_type": "code",
      "metadata": {
        "id": "HQtetRNlaEs6",
        "colab_type": "code",
        "outputId": "8ed27c55-a791-46bb-f83c-4b55e9a98870",
        "colab": {
          "base_uri": "https://localhost:8080/",
          "height": 35
        }
      },
      "source": [
        "'''\n",
        "We test the prediction accuracy of the decision tree.\n",
        "for the entire\n",
        "'''\n",
        "\n",
        "accuracyFall = (classfierDecisionTree.predict(xTesting)==yTesting).value_counts()\n",
        "accuracy = (accuracyFall[1]/(accuracyFall[0]+accuracyFall[1]))*100\n",
        "print(accuracy,'%')"
      ],
      "execution_count": 305,
      "outputs": [
        {
          "output_type": "stream",
          "text": [
            "85.46875 %\n"
          ],
          "name": "stdout"
        }
      ]
    },
    {
      "cell_type": "markdown",
      "metadata": {
        "id": "afBOrsJqeCWq",
        "colab_type": "text"
      },
      "source": [
        "For the accuracy of the testing data (testdf), we got a accuracy of 87.22222222222223%, and for the entire dataframe (df), we got the accuracy 85.46875%. They both not a pretty high accuracy due to the dataset is not being cleaned, it seem no duplicates and missing values in it but there are outliers inside the entire dataset."
      ]
    },
    {
      "cell_type": "markdown",
      "metadata": {
        "id": "4lhOBhlF0OJg",
        "colab_type": "text"
      },
      "source": [
        "###Comparative with C4.5 Algorithm "
      ]
    },
    {
      "cell_type": "markdown",
      "metadata": {
        "id": "Nw2vYgYdkERY",
        "colab_type": "text"
      },
      "source": [
        "C4.5 algorithm is also one of the top ten algorithms for data mining, which is an improvement of the ID3 algorithm. It has some improvements like select the attribute with the information gain ratio, pruning the tree during the construction of the decision tree, it can deal with non- discrete data and ability to process incomplete data.\n",
        "\n",
        "C4.5 can develop a decision tree such as missing value and subtraction. There are two ways to handle missing values: One is to drop data with missing values, which is suitable for situations where there are only a few missing values. The other is filling. C4.5 algorithm does not directly fill in missing values but uses probability knowledge to make some changes to the solution of information gain rate. Reduced branching treatment can eliminate overfitting and improve the quality of decision trees. The principle of branch reduction is to remove the subtree with low prediction accuracy, reduce the complexity of the decision tree, and make the decision tree easier to understand. There are two ways to reduce branches: First one is giving a qualification before the decision tree is constructed, limiting the growth of the tree; and another after the decision tree is completely grown, the defective subtree is reduced.\n",
        " "
      ]
    },
    {
      "cell_type": "markdown",
      "metadata": {
        "id": "QhCCl07U0OHh",
        "colab_type": "text"
      },
      "source": [
        "##Conclusion"
      ]
    },
    {
      "cell_type": "markdown",
      "metadata": {
        "id": "zoaa7Lyr0N4J",
        "colab_type": "text"
      },
      "source": [
        "In conclusion, we implement a ID3 decision tree algorithm and find a dataset to analyse by it. The dataset shows 11 ingredients of wines, and the quality of the wine is given. \n",
        "\n",
        "First, we prepare the dataset for the model, each attribute is split by the mean value and present as high and low. Next, we build helper functions after split the dataset, for example check the purity and classify the dataset. Moreover, it has formulas of entropy, overall entropy and the information gain. After the helpful functions, a detailed ID3 decision tree alogorithm have been provided. Finally, the desicion tree printed out, we test model and further test with scikit-learn library. For the accuracy of the testing data (testdf), we got a accuracy of 87.22222222222223%, and for the entire dataframe (df), we got the accuracy 85.46875%. Also we did a comparative stusy with C4.5 Algorithm, and discuss its improvement on dealing with missing value and subtraction.\n",
        "\n",
        "For the improvements, during split dataset part, it can have a development that create a cyclic programming to split every attribute. It can be more efficient and accuracy. In the part of preparing the data we should choose the appropriate threshold minimizes the classification error rate, and need to further determine the threshold instead of using the mean directly. Also, it is better to extract data which have the features from dataset rather than just inputting all the dataset, this reduces running time and memory space as well as improve efficient and accuracy. Moreover, in the part of building tree, the model is not clear as it could be, we could use the visualization tools from the sklearn library.\n",
        "\n"
      ]
    },
    {
      "cell_type": "markdown",
      "metadata": {
        "id": "tejV1osf0ckE",
        "colab_type": "text"
      },
      "source": [
        "##Ethical"
      ]
    },
    {
      "cell_type": "markdown",
      "metadata": {
        "id": "52D3sRq40cT8",
        "colab_type": "text"
      },
      "source": [
        "According to The Utilitarian Approach, it is following the rule which is consider equally for every entity or stakeholder before making the decision. Decision Tree Algorithm can help entities to find the best solution or method for each of them. Dataset can help ID3 Alogorithm and Decision Tree Algorithm become successful such as the Algorithm can separate the dataset in some parts from multiple conditions and separate step by step until the division condition is reached.\n",
        "\n",
        "This Algorithm can suitable for a variety of occasions. For example, it can be useful and efficient in pharmacy or hospital. Doctors can use Decision Tree Algorithm to filter patients for some parts that each part have the same symptom. Then, they can take the same symptom patients further screening until no other exceptions. In addition, doctors can also separate medicines for patients who they need same. \n",
        "\n",
        "Another example for using Decision Tree Algorithm can be used in military training. Military instructor can use Decision Tree Algorithm to separate recruits in training. Such as recruits can be classified as physique, physical fitness, willpower, execution, etc. This Algorithm allows military instructor to make the suitable training plan for each part of recruits and tap their strengths.\n"
      ]
    },
    {
      "cell_type": "markdown",
      "metadata": {
        "id": "gz3u74Z40by1",
        "colab_type": "text"
      },
      "source": [
        "##Video Pitch"
      ]
    },
    {
      "cell_type": "markdown",
      "metadata": {
        "id": "FxehDcq_0muK",
        "colab_type": "text"
      },
      "source": [
        ""
      ]
    }
  ]
}